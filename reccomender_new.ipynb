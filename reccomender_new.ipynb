{
 "cells": [
  {
   "cell_type": "code",
   "execution_count": 38,
   "metadata": {
    "pycharm": {
     "name": "#%%\n"
    }
   },
   "outputs": [],
   "source": [
    "import numpy as np\n",
    "import pandas as pd\n",
    "\n",
    "from biclustlib.algorithms import *\n",
    "from biclustlib.models import Bicluster, Biclustering\n",
    "import seaborn as sns\n",
    "import matplotlib.pyplot as plt\n",
    "from numpy import iterable\n",
    "from typing import List\n",
    "import logging"
   ]
  },
  {
   "cell_type": "code",
   "execution_count": 3,
   "metadata": {
    "collapsed": false,
    "pycharm": {
     "name": "#%%\n"
    }
   },
   "outputs": [],
   "source": [
    "np.random.seed(42)"
   ]
  },
  {
   "cell_type": "code",
   "execution_count": 4,
   "metadata": {
    "collapsed": false,
    "pycharm": {
     "name": "#%%\n"
    }
   },
   "outputs": [],
   "source": [
    "def enable_logging(enable: bool):\n",
    "    logging_level = [logging.CRITICAL, logging.DEBUG][int(enable)]\n",
    "    logging.getLogger(__name__).setLevel(logging_level)"
   ]
  },
  {
   "cell_type": "code",
   "execution_count": 5,
   "metadata": {
    "collapsed": false,
    "pycharm": {
     "name": "#%%\n"
    }
   },
   "outputs": [],
   "source": [
    "### Set True if you want to use logging, False otherwise ###\n",
    "logging.basicConfig(format='%(asctime)s: \"%(message)s\"', datefmt=\"%H:%M:%S\")\n",
    "enable_logging(False)"
   ]
  },
  {
   "cell_type": "markdown",
   "metadata": {
    "pycharm": {
     "name": "#%% md\n"
    }
   },
   "source": [
    "### NBCF"
   ]
  },
  {
   "cell_type": "code",
   "execution_count": 6,
   "metadata": {
    "collapsed": false,
    "pycharm": {
     "name": "#%%\n"
    }
   },
   "outputs": [],
   "source": [
    "def sim(user_items: np.ndarray, bicluster: Bicluster):\n",
    "    return len(np.intersect1d(user_items.nonzero(), bicluster.cols)) / len(bicluster.cols)"
   ]
  },
  {
   "cell_type": "code",
   "execution_count": 7,
   "metadata": {
    "pycharm": {
     "name": "#%%\n"
    }
   },
   "outputs": [],
   "source": [
    "def wf(user_items: np.ndarray, bicluster: Bicluster):\n",
    "    return sim(user_items, bicluster) * len(bicluster.rows)"
   ]
  },
  {
   "cell_type": "code",
   "execution_count": 8,
   "metadata": {
    "pycharm": {
     "name": "#%%\n"
    }
   },
   "outputs": [],
   "source": [
    "def NBCF(user_items: np.ndarray, biclusters: Biclustering):\n",
    "    results = [[wf(user_items, cluster), cluster] for cluster in biclusters.biclusters]\n",
    "    results.sort(key=lambda x: -x[0])\n",
    "    return results"
   ]
  },
  {
   "cell_type": "markdown",
   "metadata": {
    "collapsed": false,
    "pycharm": {
     "name": "#%% md\n"
    }
   },
   "source": [
    "## Recommendations"
   ]
  },
  {
   "cell_type": "code",
   "execution_count": 9,
   "metadata": {
    "pycharm": {
     "name": "#%%\n"
    }
   },
   "outputs": [],
   "source": [
    "def recommendation(df: pd.DataFrame, user_items: np.ndarray, biclusters: Biclustering, k_items: int):\n",
    "    if isinstance(user_items, pd.Series):\n",
    "        user_items = np.array(user_items)\n",
    "\n",
    "    items_to_recommend = set()\n",
    "    neighboring_biclusters = NBCF(user_items, biclusters)\n",
    "    for i, biclust_to_analyze in neighboring_biclusters:\n",
    "        item_ratings = []\n",
    "\n",
    "        users_ratings = df.iloc[biclust_to_analyze.rows, biclust_to_analyze.cols]\n",
    "        item_ratings = list(zip(np.mean(users_ratings[users_ratings != 0], axis=0), biclust_to_analyze.cols))\n",
    "\n",
    "        if len(item_ratings) != 0:\n",
    "            item_ratings.sort(key=lambda x: -x[0])\n",
    "            items_to_recommend |= {p[1] for p in item_ratings[: k_items]}\n",
    "\n",
    "        if len(items_to_recommend) >= k_items:\n",
    "            break\n",
    "\n",
    "    return list(items_to_recommend)[:k_items]"
   ]
  },
  {
   "cell_type": "code",
   "execution_count": 10,
   "metadata": {
    "collapsed": false,
    "pycharm": {
     "name": "#%%\n"
    }
   },
   "outputs": [],
   "source": [
    "def binary_recommendation(df: pd.DataFrame, user_items: np.ndarray, biclusters: Biclustering, k_items: int):\n",
    "    if isinstance(user_items, pd.Series):\n",
    "        user_items = np.array(user_items)\n",
    "\n",
    "    items_to_recommend = set()\n",
    "    neighboring_biclusters = NBCF(user_items, biclusters)\n",
    "    for _, biclust_to_analyze in neighboring_biclusters:\n",
    "        items_to_recommend |= set(biclust_to_analyze.cols[: k_items])\n",
    "        if len(items_to_recommend) >= k_items:\n",
    "            break\n",
    "\n",
    "    return list(items_to_recommend)[:k_items]"
   ]
  },
  {
   "cell_type": "markdown",
   "metadata": {
    "collapsed": false,
    "pycharm": {
     "name": "#%% md\n"
    }
   },
   "source": [
    "## Metrics"
   ]
  },
  {
   "cell_type": "code",
   "execution_count": 11,
   "metadata": {
    "collapsed": false,
    "pycharm": {
     "name": "#%%\n"
    }
   },
   "outputs": [],
   "source": [
    "def precision(prediction: np.ndarray, user_items: np.ndarray, positive_threshold: float) -> float:\n",
    "    return len(np.intersect1d(np.nonzero(user_items > positive_threshold), prediction)) / len(prediction) if len(prediction) != 0 else 0"
   ]
  },
  {
   "cell_type": "code",
   "execution_count": 12,
   "metadata": {
    "collapsed": false,
    "pycharm": {
     "name": "#%%\n"
    }
   },
   "outputs": [],
   "source": [
    "def recall(prediction: np.ndarray, user_items: np.ndarray, positive_threshold: float) -> float:\n",
    "    liked_items = np.nonzero(user_items > positive_threshold)\n",
    "    return len(np.intersect1d(liked_items, prediction)) / len(liked_items[0]) if len(liked_items[0]) != 0 else 0"
   ]
  },
  {
   "cell_type": "code",
   "execution_count": 13,
   "metadata": {
    "collapsed": false,
    "pycharm": {
     "name": "#%%\n"
    }
   },
   "outputs": [],
   "source": [
    "def f1_score(precisions: iterable, recalls: list):\n",
    "    precisions = np.array(precisions)\n",
    "    recalls = np.array(recalls)\n",
    "    dividend = 2 * (precisions * recalls)\n",
    "    divider = precisions + recalls\n",
    "    return np.divide(dividend, divider, out=np.zeros_like(dividend), where = divider != 0)"
   ]
  },
  {
   "cell_type": "code",
   "execution_count": 14,
   "metadata": {
    "collapsed": false,
    "pycharm": {
     "name": "#%%\n"
    }
   },
   "outputs": [],
   "source": [
    "def stability(values: list) -> float:\n",
    "    \"\"\"\n",
    "    Calculates the difference between the minimum and maximum value in the list\n",
    "    :param values: list of values. Precisions, for instance\n",
    "    :return: number from 0 to 1. 1 = stable, 0 = unstable\n",
    "    \"\"\"\n",
    "    return 1 - (np.max(values) - np.min(values))"
   ]
  },
  {
   "cell_type": "code",
   "execution_count": 15,
   "metadata": {
    "collapsed": false,
    "pycharm": {
     "name": "#%%\n"
    }
   },
   "outputs": [],
   "source": [
    "def calc_metric(data: pd.DataFrame, sample: pd.DataFrame, biclustering: Biclustering, n_items: int, metric: callable,\n",
    "                is_binary: bool = False, positive_threshold: float = 3) -> float:\n",
    "    \"\"\"\n",
    "    Return precision or recall (depending on 'metric' parameter) for sample dataframe\n",
    "    :param data: original df\n",
    "    :param sample: test df\n",
    "    :param biclustering: biclusters\n",
    "    :param n_items: number of recommendations\n",
    "    :param metric: precision or recall function\n",
    "    :param is_binary: is data binary or not. Set to True for BiBit algorithm\n",
    "    :param positive_threshold: threshold for items filtering\n",
    "    :return: mean of precisions for each user\n",
    "    \"\"\"\n",
    "\n",
    "    recommendation_function = [recommendation, binary_recommendation][is_binary]\n",
    "    positive_threshold *= not is_binary\n",
    "\n",
    "    metric_values = [\n",
    "        metric(\n",
    "            rec := recommendation_function(\n",
    "                data,\n",
    "                sample.iloc[i],\n",
    "                biclustering,\n",
    "                n_items\n",
    "            ),\n",
    "            np.asarray(sample.iloc[i]),\n",
    "            positive_threshold\n",
    "        ) for i in range(len(sample))]\n",
    "    logging.getLogger(__name__).debug(f\"Finish calculating {metric.__name__} for n_items = {n_items}\")\n",
    "    return float(np.mean(metric_values))"
   ]
  },
  {
   "cell_type": "code",
   "execution_count": 16,
   "metadata": {
    "collapsed": false,
    "pycharm": {
     "name": "#%%\n"
    }
   },
   "outputs": [],
   "source": [
    "def getPrecisionsAndRecalls(\n",
    "        df: pd.DataFrame, test: pd.DataFrame, y_train: Biclustering,\n",
    "        positive_threshold: float = 3, make_binary: bool = False, items_count: iterable = np.arange(5, 55, 5)):\n",
    "    \"\"\"\n",
    "    Return array of arrays of precisions and recalls\n",
    "    :param df: original data\n",
    "    :param test: test users\n",
    "    :param y_train: biclustering, that we get from algorithm running\n",
    "    :param positive_threshold: threshold for 'good items'. 3 by default\n",
    "    :param make_binary: transform data to binary representation. False by default\n",
    "    :param items_count: iterable of N-s for top-N recommendations\n",
    "    :return: list of precisions and recalls\n",
    "    \"\"\"\n",
    "    logging.getLogger(__name__).debug(\"Biclustering has been finished\")\n",
    "    df_ = df.copy()\n",
    "    test_ = test.copy()\n",
    "\n",
    "    if make_binary:\n",
    "        df_[df_ <= positive_threshold] = 0\n",
    "        df_[df_ > positive_threshold] = 1\n",
    "        test_[test_ <= positive_threshold] = 0\n",
    "        test_[test_ > positive_threshold] = 1\n",
    "\n",
    "    return [calc_metric(df_, test_, y_train, c, precision, make_binary, positive_threshold) for c in items_count], [\n",
    "        calc_metric(df_, test_, y_train, c, recall, make_binary, positive_threshold) for c in items_count]"
   ]
  },
  {
   "cell_type": "markdown",
   "metadata": {
    "pycharm": {
     "name": "#%% md\n"
    }
   },
   "source": [
    "## Datasets"
   ]
  },
  {
   "cell_type": "code",
   "execution_count": 17,
   "metadata": {
    "collapsed": false,
    "pycharm": {
     "name": "#%%\n"
    }
   },
   "outputs": [],
   "source": [
    "def _ml_100k_preprocessing(ml_df: pd.DataFrame):\n",
    "    return ml_df.fillna(0)\n",
    "\n",
    "\n",
    "def _jester_100k_preprocessing(jester_df: pd.DataFrame):\n",
    "    preproc_jester = jester_df.copy()\n",
    "    preproc_jester += 11\n",
    "    return preproc_jester.round().fillna(0).astype(int)\n",
    "\n",
    "\n",
    "def load_dataset(name: str, preprocessing: bool = True): # TODO change directories (e.g. 'datasets/ml', 'datasets/jester-...'\n",
    "    available_datasets = [\"ml-100k\", \"jester\"] # TODO kill this hardcode\n",
    "\n",
    "    preprocessing_funcs = {\n",
    "        \"ml-100k\" : _ml_100k_preprocessing,\n",
    "        \"jester\" : _jester_100k_preprocessing\n",
    "    }\n",
    "\n",
    "    name = name.lower().strip()\n",
    "\n",
    "    if name == \"ml-100k\":\n",
    "        dataset_dir = \"ml\"\n",
    "\n",
    "        r_cols = ['userId', 'movieId', 'rating', 'unix_timestamp']\n",
    "        ratings = pd.read_csv(f'{dataset_dir}/u.data', sep='\\t', names=r_cols, encoding='latin-1')\n",
    "\n",
    "        m_cols = ['movieId', 'title', 'release_date', 'video_release_date', 'imdb_url']\n",
    "        movies = pd.read_csv(f'{dataset_dir}/u.item', sep='|', names=m_cols, usecols=range(5), encoding='latin-1')\n",
    "\n",
    "        # Drop useless features\n",
    "        ratings = ratings.drop([\"unix_timestamp\"], axis=1)\n",
    "        movies = movies.drop([\"release_date\", \"video_release_date\", \"imdb_url\"], axis=1)\n",
    "\n",
    "        total = pd.merge(ratings, movies, on=\"movieId\")\n",
    "\n",
    "        # Complete dataset matrix\n",
    "        _ml_100k_df = pd.pivot_table(data=total, index=\"userId\", columns=\"title\", values=\"rating\")\n",
    "        return preprocessing_funcs[name](_ml_100k_df) if preprocessing else _ml_100k_df\n",
    "    elif name == \"jester\":\n",
    "        original_jester_df = pd.read_excel(\"jester-data-1.xls\", names=range(1, 101), header=None, na_values=99).reset_index(drop=True)\n",
    "        return preprocessing_funcs[name](original_jester_df) if preprocessing else original_jester_df\n",
    "    else:\n",
    "        raise ValueError(f\"Unknown dataset '{name}'. Available datasets: {', '.join(available_datasets)}\")"
   ]
  },
  {
   "cell_type": "code",
   "execution_count": 18,
   "metadata": {
    "collapsed": false,
    "pycharm": {
     "name": "#%%\n"
    }
   },
   "outputs": [],
   "source": [
    "def make_binary(df: pd.DataFrame, threshold: float):\n",
    "    to_binarize = df.copy()\n",
    "    to_binarize[to_binarize <= threshold] = 0\n",
    "    to_binarize[to_binarize > threshold] = 1\n",
    "    return to_binarize"
   ]
  },
  {
   "cell_type": "code",
   "execution_count": 19,
   "metadata": {
    "collapsed": false,
    "pycharm": {
     "name": "#%%\n"
    }
   },
   "outputs": [],
   "source": [
    "def surprise_suiting(user_item_table: pd.DataFrame) -> pd.DataFrame:\n",
    "    \"\"\"Transform user/item matrix into surprise-library representation\"\"\"\n",
    "    d = np.array(user_item_table)\n",
    "    res = [(row, index, d[row, index]) for row in range(d.shape[0]) for index in range(d.shape[1]) if d[row, index] != 0]\n",
    "\n",
    "    return pd.DataFrame(res, columns=[\"user_id\", \"item_id\", \"rating\"])"
   ]
  },
  {
   "cell_type": "code",
   "execution_count": 20,
   "metadata": {
    "collapsed": false,
    "pycharm": {
     "name": "#%%\n"
    }
   },
   "outputs": [
    {
     "data": {
      "text/html": [
       "<div>\n",
       "<style scoped>\n",
       "    .dataframe tbody tr th:only-of-type {\n",
       "        vertical-align: middle;\n",
       "    }\n",
       "\n",
       "    .dataframe tbody tr th {\n",
       "        vertical-align: top;\n",
       "    }\n",
       "\n",
       "    .dataframe thead th {\n",
       "        text-align: right;\n",
       "    }\n",
       "</style>\n",
       "<table border=\"1\" class=\"dataframe\">\n",
       "  <thead>\n",
       "    <tr style=\"text-align: right;\">\n",
       "      <th>title</th>\n",
       "      <th>'Til There Was You (1997)</th>\n",
       "      <th>1-900 (1994)</th>\n",
       "      <th>101 Dalmatians (1996)</th>\n",
       "      <th>12 Angry Men (1957)</th>\n",
       "      <th>187 (1997)</th>\n",
       "      <th>2 Days in the Valley (1996)</th>\n",
       "      <th>20,000 Leagues Under the Sea (1954)</th>\n",
       "      <th>2001: A Space Odyssey (1968)</th>\n",
       "      <th>3 Ninjas: High Noon At Mega Mountain (1998)</th>\n",
       "      <th>39 Steps, The (1935)</th>\n",
       "      <th>...</th>\n",
       "      <th>Yankee Zulu (1994)</th>\n",
       "      <th>Year of the Horse (1997)</th>\n",
       "      <th>You So Crazy (1994)</th>\n",
       "      <th>Young Frankenstein (1974)</th>\n",
       "      <th>Young Guns (1988)</th>\n",
       "      <th>Young Guns II (1990)</th>\n",
       "      <th>Young Poisoner's Handbook, The (1995)</th>\n",
       "      <th>Zeus and Roxanne (1997)</th>\n",
       "      <th>unknown</th>\n",
       "      <th>Á köldum klaka (Cold Fever) (1994)</th>\n",
       "    </tr>\n",
       "    <tr>\n",
       "      <th>userId</th>\n",
       "      <th></th>\n",
       "      <th></th>\n",
       "      <th></th>\n",
       "      <th></th>\n",
       "      <th></th>\n",
       "      <th></th>\n",
       "      <th></th>\n",
       "      <th></th>\n",
       "      <th></th>\n",
       "      <th></th>\n",
       "      <th></th>\n",
       "      <th></th>\n",
       "      <th></th>\n",
       "      <th></th>\n",
       "      <th></th>\n",
       "      <th></th>\n",
       "      <th></th>\n",
       "      <th></th>\n",
       "      <th></th>\n",
       "      <th></th>\n",
       "      <th></th>\n",
       "    </tr>\n",
       "  </thead>\n",
       "  <tbody>\n",
       "    <tr>\n",
       "      <th>1</th>\n",
       "      <td>0.0</td>\n",
       "      <td>0.0</td>\n",
       "      <td>2.0</td>\n",
       "      <td>5.0</td>\n",
       "      <td>0.0</td>\n",
       "      <td>0.0</td>\n",
       "      <td>3.0</td>\n",
       "      <td>4.0</td>\n",
       "      <td>0.0</td>\n",
       "      <td>0.0</td>\n",
       "      <td>...</td>\n",
       "      <td>0.0</td>\n",
       "      <td>0.0</td>\n",
       "      <td>0.0</td>\n",
       "      <td>5.0</td>\n",
       "      <td>3.0</td>\n",
       "      <td>0.0</td>\n",
       "      <td>0.0</td>\n",
       "      <td>0.0</td>\n",
       "      <td>4.0</td>\n",
       "      <td>0.0</td>\n",
       "    </tr>\n",
       "    <tr>\n",
       "      <th>2</th>\n",
       "      <td>0.0</td>\n",
       "      <td>0.0</td>\n",
       "      <td>0.0</td>\n",
       "      <td>0.0</td>\n",
       "      <td>0.0</td>\n",
       "      <td>0.0</td>\n",
       "      <td>0.0</td>\n",
       "      <td>0.0</td>\n",
       "      <td>1.0</td>\n",
       "      <td>0.0</td>\n",
       "      <td>...</td>\n",
       "      <td>0.0</td>\n",
       "      <td>0.0</td>\n",
       "      <td>0.0</td>\n",
       "      <td>0.0</td>\n",
       "      <td>0.0</td>\n",
       "      <td>0.0</td>\n",
       "      <td>0.0</td>\n",
       "      <td>0.0</td>\n",
       "      <td>0.0</td>\n",
       "      <td>0.0</td>\n",
       "    </tr>\n",
       "    <tr>\n",
       "      <th>3</th>\n",
       "      <td>0.0</td>\n",
       "      <td>0.0</td>\n",
       "      <td>0.0</td>\n",
       "      <td>0.0</td>\n",
       "      <td>2.0</td>\n",
       "      <td>0.0</td>\n",
       "      <td>0.0</td>\n",
       "      <td>0.0</td>\n",
       "      <td>0.0</td>\n",
       "      <td>0.0</td>\n",
       "      <td>...</td>\n",
       "      <td>0.0</td>\n",
       "      <td>0.0</td>\n",
       "      <td>0.0</td>\n",
       "      <td>0.0</td>\n",
       "      <td>0.0</td>\n",
       "      <td>0.0</td>\n",
       "      <td>0.0</td>\n",
       "      <td>0.0</td>\n",
       "      <td>0.0</td>\n",
       "      <td>0.0</td>\n",
       "    </tr>\n",
       "    <tr>\n",
       "      <th>4</th>\n",
       "      <td>0.0</td>\n",
       "      <td>0.0</td>\n",
       "      <td>0.0</td>\n",
       "      <td>0.0</td>\n",
       "      <td>0.0</td>\n",
       "      <td>0.0</td>\n",
       "      <td>0.0</td>\n",
       "      <td>0.0</td>\n",
       "      <td>0.0</td>\n",
       "      <td>0.0</td>\n",
       "      <td>...</td>\n",
       "      <td>0.0</td>\n",
       "      <td>0.0</td>\n",
       "      <td>0.0</td>\n",
       "      <td>0.0</td>\n",
       "      <td>0.0</td>\n",
       "      <td>0.0</td>\n",
       "      <td>0.0</td>\n",
       "      <td>0.0</td>\n",
       "      <td>0.0</td>\n",
       "      <td>0.0</td>\n",
       "    </tr>\n",
       "    <tr>\n",
       "      <th>5</th>\n",
       "      <td>0.0</td>\n",
       "      <td>0.0</td>\n",
       "      <td>2.0</td>\n",
       "      <td>0.0</td>\n",
       "      <td>0.0</td>\n",
       "      <td>0.0</td>\n",
       "      <td>0.0</td>\n",
       "      <td>4.0</td>\n",
       "      <td>0.0</td>\n",
       "      <td>0.0</td>\n",
       "      <td>...</td>\n",
       "      <td>0.0</td>\n",
       "      <td>0.0</td>\n",
       "      <td>0.0</td>\n",
       "      <td>4.0</td>\n",
       "      <td>0.0</td>\n",
       "      <td>0.0</td>\n",
       "      <td>0.0</td>\n",
       "      <td>0.0</td>\n",
       "      <td>4.0</td>\n",
       "      <td>0.0</td>\n",
       "    </tr>\n",
       "    <tr>\n",
       "      <th>...</th>\n",
       "      <td>...</td>\n",
       "      <td>...</td>\n",
       "      <td>...</td>\n",
       "      <td>...</td>\n",
       "      <td>...</td>\n",
       "      <td>...</td>\n",
       "      <td>...</td>\n",
       "      <td>...</td>\n",
       "      <td>...</td>\n",
       "      <td>...</td>\n",
       "      <td>...</td>\n",
       "      <td>...</td>\n",
       "      <td>...</td>\n",
       "      <td>...</td>\n",
       "      <td>...</td>\n",
       "      <td>...</td>\n",
       "      <td>...</td>\n",
       "      <td>...</td>\n",
       "      <td>...</td>\n",
       "      <td>...</td>\n",
       "      <td>...</td>\n",
       "    </tr>\n",
       "    <tr>\n",
       "      <th>939</th>\n",
       "      <td>0.0</td>\n",
       "      <td>0.0</td>\n",
       "      <td>0.0</td>\n",
       "      <td>0.0</td>\n",
       "      <td>0.0</td>\n",
       "      <td>0.0</td>\n",
       "      <td>0.0</td>\n",
       "      <td>0.0</td>\n",
       "      <td>0.0</td>\n",
       "      <td>0.0</td>\n",
       "      <td>...</td>\n",
       "      <td>0.0</td>\n",
       "      <td>0.0</td>\n",
       "      <td>0.0</td>\n",
       "      <td>0.0</td>\n",
       "      <td>0.0</td>\n",
       "      <td>0.0</td>\n",
       "      <td>0.0</td>\n",
       "      <td>0.0</td>\n",
       "      <td>0.0</td>\n",
       "      <td>0.0</td>\n",
       "    </tr>\n",
       "    <tr>\n",
       "      <th>940</th>\n",
       "      <td>0.0</td>\n",
       "      <td>0.0</td>\n",
       "      <td>0.0</td>\n",
       "      <td>0.0</td>\n",
       "      <td>0.0</td>\n",
       "      <td>0.0</td>\n",
       "      <td>0.0</td>\n",
       "      <td>0.0</td>\n",
       "      <td>0.0</td>\n",
       "      <td>0.0</td>\n",
       "      <td>...</td>\n",
       "      <td>0.0</td>\n",
       "      <td>0.0</td>\n",
       "      <td>0.0</td>\n",
       "      <td>0.0</td>\n",
       "      <td>0.0</td>\n",
       "      <td>0.0</td>\n",
       "      <td>0.0</td>\n",
       "      <td>0.0</td>\n",
       "      <td>0.0</td>\n",
       "      <td>0.0</td>\n",
       "    </tr>\n",
       "    <tr>\n",
       "      <th>941</th>\n",
       "      <td>0.0</td>\n",
       "      <td>0.0</td>\n",
       "      <td>0.0</td>\n",
       "      <td>0.0</td>\n",
       "      <td>0.0</td>\n",
       "      <td>0.0</td>\n",
       "      <td>0.0</td>\n",
       "      <td>0.0</td>\n",
       "      <td>0.0</td>\n",
       "      <td>0.0</td>\n",
       "      <td>...</td>\n",
       "      <td>0.0</td>\n",
       "      <td>0.0</td>\n",
       "      <td>0.0</td>\n",
       "      <td>0.0</td>\n",
       "      <td>0.0</td>\n",
       "      <td>0.0</td>\n",
       "      <td>0.0</td>\n",
       "      <td>0.0</td>\n",
       "      <td>0.0</td>\n",
       "      <td>0.0</td>\n",
       "    </tr>\n",
       "    <tr>\n",
       "      <th>942</th>\n",
       "      <td>0.0</td>\n",
       "      <td>0.0</td>\n",
       "      <td>0.0</td>\n",
       "      <td>0.0</td>\n",
       "      <td>0.0</td>\n",
       "      <td>0.0</td>\n",
       "      <td>0.0</td>\n",
       "      <td>3.0</td>\n",
       "      <td>0.0</td>\n",
       "      <td>3.0</td>\n",
       "      <td>...</td>\n",
       "      <td>0.0</td>\n",
       "      <td>0.0</td>\n",
       "      <td>0.0</td>\n",
       "      <td>0.0</td>\n",
       "      <td>0.0</td>\n",
       "      <td>0.0</td>\n",
       "      <td>0.0</td>\n",
       "      <td>0.0</td>\n",
       "      <td>0.0</td>\n",
       "      <td>0.0</td>\n",
       "    </tr>\n",
       "    <tr>\n",
       "      <th>943</th>\n",
       "      <td>0.0</td>\n",
       "      <td>0.0</td>\n",
       "      <td>0.0</td>\n",
       "      <td>0.0</td>\n",
       "      <td>0.0</td>\n",
       "      <td>2.0</td>\n",
       "      <td>0.0</td>\n",
       "      <td>0.0</td>\n",
       "      <td>0.0</td>\n",
       "      <td>0.0</td>\n",
       "      <td>...</td>\n",
       "      <td>0.0</td>\n",
       "      <td>0.0</td>\n",
       "      <td>0.0</td>\n",
       "      <td>0.0</td>\n",
       "      <td>4.0</td>\n",
       "      <td>3.0</td>\n",
       "      <td>0.0</td>\n",
       "      <td>0.0</td>\n",
       "      <td>0.0</td>\n",
       "      <td>0.0</td>\n",
       "    </tr>\n",
       "  </tbody>\n",
       "</table>\n",
       "<p>943 rows × 1664 columns</p>\n",
       "</div>"
      ],
      "text/plain": [
       "title   'Til There Was You (1997)  1-900 (1994)  101 Dalmatians (1996)  \\\n",
       "userId                                                                   \n",
       "1                             0.0           0.0                    2.0   \n",
       "2                             0.0           0.0                    0.0   \n",
       "3                             0.0           0.0                    0.0   \n",
       "4                             0.0           0.0                    0.0   \n",
       "5                             0.0           0.0                    2.0   \n",
       "...                           ...           ...                    ...   \n",
       "939                           0.0           0.0                    0.0   \n",
       "940                           0.0           0.0                    0.0   \n",
       "941                           0.0           0.0                    0.0   \n",
       "942                           0.0           0.0                    0.0   \n",
       "943                           0.0           0.0                    0.0   \n",
       "\n",
       "title   12 Angry Men (1957)  187 (1997)  2 Days in the Valley (1996)  \\\n",
       "userId                                                                 \n",
       "1                       5.0         0.0                          0.0   \n",
       "2                       0.0         0.0                          0.0   \n",
       "3                       0.0         2.0                          0.0   \n",
       "4                       0.0         0.0                          0.0   \n",
       "5                       0.0         0.0                          0.0   \n",
       "...                     ...         ...                          ...   \n",
       "939                     0.0         0.0                          0.0   \n",
       "940                     0.0         0.0                          0.0   \n",
       "941                     0.0         0.0                          0.0   \n",
       "942                     0.0         0.0                          0.0   \n",
       "943                     0.0         0.0                          2.0   \n",
       "\n",
       "title   20,000 Leagues Under the Sea (1954)  2001: A Space Odyssey (1968)  \\\n",
       "userId                                                                      \n",
       "1                                       3.0                           4.0   \n",
       "2                                       0.0                           0.0   \n",
       "3                                       0.0                           0.0   \n",
       "4                                       0.0                           0.0   \n",
       "5                                       0.0                           4.0   \n",
       "...                                     ...                           ...   \n",
       "939                                     0.0                           0.0   \n",
       "940                                     0.0                           0.0   \n",
       "941                                     0.0                           0.0   \n",
       "942                                     0.0                           3.0   \n",
       "943                                     0.0                           0.0   \n",
       "\n",
       "title   3 Ninjas: High Noon At Mega Mountain (1998)  39 Steps, The (1935)  \\\n",
       "userId                                                                      \n",
       "1                                               0.0                   0.0   \n",
       "2                                               1.0                   0.0   \n",
       "3                                               0.0                   0.0   \n",
       "4                                               0.0                   0.0   \n",
       "5                                               0.0                   0.0   \n",
       "...                                             ...                   ...   \n",
       "939                                             0.0                   0.0   \n",
       "940                                             0.0                   0.0   \n",
       "941                                             0.0                   0.0   \n",
       "942                                             0.0                   3.0   \n",
       "943                                             0.0                   0.0   \n",
       "\n",
       "title   ...  Yankee Zulu (1994)  Year of the Horse (1997)  \\\n",
       "userId  ...                                                 \n",
       "1       ...                 0.0                       0.0   \n",
       "2       ...                 0.0                       0.0   \n",
       "3       ...                 0.0                       0.0   \n",
       "4       ...                 0.0                       0.0   \n",
       "5       ...                 0.0                       0.0   \n",
       "...     ...                 ...                       ...   \n",
       "939     ...                 0.0                       0.0   \n",
       "940     ...                 0.0                       0.0   \n",
       "941     ...                 0.0                       0.0   \n",
       "942     ...                 0.0                       0.0   \n",
       "943     ...                 0.0                       0.0   \n",
       "\n",
       "title   You So Crazy (1994)  Young Frankenstein (1974)  Young Guns (1988)  \\\n",
       "userId                                                                      \n",
       "1                       0.0                        5.0                3.0   \n",
       "2                       0.0                        0.0                0.0   \n",
       "3                       0.0                        0.0                0.0   \n",
       "4                       0.0                        0.0                0.0   \n",
       "5                       0.0                        4.0                0.0   \n",
       "...                     ...                        ...                ...   \n",
       "939                     0.0                        0.0                0.0   \n",
       "940                     0.0                        0.0                0.0   \n",
       "941                     0.0                        0.0                0.0   \n",
       "942                     0.0                        0.0                0.0   \n",
       "943                     0.0                        0.0                4.0   \n",
       "\n",
       "title   Young Guns II (1990)  Young Poisoner's Handbook, The (1995)  \\\n",
       "userId                                                                \n",
       "1                        0.0                                    0.0   \n",
       "2                        0.0                                    0.0   \n",
       "3                        0.0                                    0.0   \n",
       "4                        0.0                                    0.0   \n",
       "5                        0.0                                    0.0   \n",
       "...                      ...                                    ...   \n",
       "939                      0.0                                    0.0   \n",
       "940                      0.0                                    0.0   \n",
       "941                      0.0                                    0.0   \n",
       "942                      0.0                                    0.0   \n",
       "943                      3.0                                    0.0   \n",
       "\n",
       "title   Zeus and Roxanne (1997)  unknown  Á köldum klaka (Cold Fever) (1994)  \n",
       "userId                                                                        \n",
       "1                           0.0      4.0                                 0.0  \n",
       "2                           0.0      0.0                                 0.0  \n",
       "3                           0.0      0.0                                 0.0  \n",
       "4                           0.0      0.0                                 0.0  \n",
       "5                           0.0      4.0                                 0.0  \n",
       "...                         ...      ...                                 ...  \n",
       "939                         0.0      0.0                                 0.0  \n",
       "940                         0.0      0.0                                 0.0  \n",
       "941                         0.0      0.0                                 0.0  \n",
       "942                         0.0      0.0                                 0.0  \n",
       "943                         0.0      0.0                                 0.0  \n",
       "\n",
       "[943 rows x 1664 columns]"
      ]
     },
     "execution_count": 20,
     "metadata": {},
     "output_type": "execute_result"
    }
   ],
   "source": [
    "ml_df = load_dataset(\"ml-100k\")\n",
    "ml_df"
   ]
  },
  {
   "cell_type": "code",
   "execution_count": 21,
   "metadata": {
    "collapsed": false,
    "pycharm": {
     "name": "#%%\n"
    }
   },
   "outputs": [
    {
     "data": {
      "text/html": [
       "<div>\n",
       "<style scoped>\n",
       "    .dataframe tbody tr th:only-of-type {\n",
       "        vertical-align: middle;\n",
       "    }\n",
       "\n",
       "    .dataframe tbody tr th {\n",
       "        vertical-align: top;\n",
       "    }\n",
       "\n",
       "    .dataframe thead th {\n",
       "        text-align: right;\n",
       "    }\n",
       "</style>\n",
       "<table border=\"1\" class=\"dataframe\">\n",
       "  <thead>\n",
       "    <tr style=\"text-align: right;\">\n",
       "      <th></th>\n",
       "      <th>1</th>\n",
       "      <th>2</th>\n",
       "      <th>3</th>\n",
       "      <th>4</th>\n",
       "      <th>5</th>\n",
       "      <th>6</th>\n",
       "      <th>7</th>\n",
       "      <th>8</th>\n",
       "      <th>9</th>\n",
       "      <th>10</th>\n",
       "      <th>...</th>\n",
       "      <th>91</th>\n",
       "      <th>92</th>\n",
       "      <th>93</th>\n",
       "      <th>94</th>\n",
       "      <th>95</th>\n",
       "      <th>96</th>\n",
       "      <th>97</th>\n",
       "      <th>98</th>\n",
       "      <th>99</th>\n",
       "      <th>100</th>\n",
       "    </tr>\n",
       "  </thead>\n",
       "  <tbody>\n",
       "    <tr>\n",
       "      <th>0</th>\n",
       "      <td>3</td>\n",
       "      <td>20</td>\n",
       "      <td>1</td>\n",
       "      <td>3</td>\n",
       "      <td>3</td>\n",
       "      <td>2</td>\n",
       "      <td>1</td>\n",
       "      <td>15</td>\n",
       "      <td>2</td>\n",
       "      <td>6</td>\n",
       "      <td>...</td>\n",
       "      <td>14</td>\n",
       "      <td>0</td>\n",
       "      <td>0</td>\n",
       "      <td>0</td>\n",
       "      <td>0</td>\n",
       "      <td>0</td>\n",
       "      <td>5</td>\n",
       "      <td>0</td>\n",
       "      <td>0</td>\n",
       "      <td>0</td>\n",
       "    </tr>\n",
       "    <tr>\n",
       "      <th>1</th>\n",
       "      <td>15</td>\n",
       "      <td>11</td>\n",
       "      <td>17</td>\n",
       "      <td>15</td>\n",
       "      <td>9</td>\n",
       "      <td>1</td>\n",
       "      <td>10</td>\n",
       "      <td>6</td>\n",
       "      <td>20</td>\n",
       "      <td>20</td>\n",
       "      <td>...</td>\n",
       "      <td>14</td>\n",
       "      <td>6</td>\n",
       "      <td>11</td>\n",
       "      <td>19</td>\n",
       "      <td>11</td>\n",
       "      <td>9</td>\n",
       "      <td>14</td>\n",
       "      <td>11</td>\n",
       "      <td>7</td>\n",
       "      <td>12</td>\n",
       "    </tr>\n",
       "    <tr>\n",
       "      <th>2</th>\n",
       "      <td>0</td>\n",
       "      <td>0</td>\n",
       "      <td>0</td>\n",
       "      <td>0</td>\n",
       "      <td>20</td>\n",
       "      <td>20</td>\n",
       "      <td>20</td>\n",
       "      <td>20</td>\n",
       "      <td>0</td>\n",
       "      <td>0</td>\n",
       "      <td>...</td>\n",
       "      <td>0</td>\n",
       "      <td>0</td>\n",
       "      <td>0</td>\n",
       "      <td>20</td>\n",
       "      <td>0</td>\n",
       "      <td>0</td>\n",
       "      <td>0</td>\n",
       "      <td>0</td>\n",
       "      <td>0</td>\n",
       "      <td>0</td>\n",
       "    </tr>\n",
       "    <tr>\n",
       "      <th>3</th>\n",
       "      <td>0</td>\n",
       "      <td>19</td>\n",
       "      <td>0</td>\n",
       "      <td>0</td>\n",
       "      <td>13</td>\n",
       "      <td>19</td>\n",
       "      <td>8</td>\n",
       "      <td>17</td>\n",
       "      <td>0</td>\n",
       "      <td>13</td>\n",
       "      <td>...</td>\n",
       "      <td>0</td>\n",
       "      <td>0</td>\n",
       "      <td>0</td>\n",
       "      <td>12</td>\n",
       "      <td>0</td>\n",
       "      <td>0</td>\n",
       "      <td>0</td>\n",
       "      <td>0</td>\n",
       "      <td>0</td>\n",
       "      <td>0</td>\n",
       "    </tr>\n",
       "    <tr>\n",
       "      <th>4</th>\n",
       "      <td>20</td>\n",
       "      <td>16</td>\n",
       "      <td>7</td>\n",
       "      <td>6</td>\n",
       "      <td>12</td>\n",
       "      <td>13</td>\n",
       "      <td>18</td>\n",
       "      <td>16</td>\n",
       "      <td>11</td>\n",
       "      <td>17</td>\n",
       "      <td>...</td>\n",
       "      <td>16</td>\n",
       "      <td>17</td>\n",
       "      <td>15</td>\n",
       "      <td>16</td>\n",
       "      <td>17</td>\n",
       "      <td>13</td>\n",
       "      <td>14</td>\n",
       "      <td>18</td>\n",
       "      <td>13</td>\n",
       "      <td>13</td>\n",
       "    </tr>\n",
       "    <tr>\n",
       "      <th>...</th>\n",
       "      <td>...</td>\n",
       "      <td>...</td>\n",
       "      <td>...</td>\n",
       "      <td>...</td>\n",
       "      <td>...</td>\n",
       "      <td>...</td>\n",
       "      <td>...</td>\n",
       "      <td>...</td>\n",
       "      <td>...</td>\n",
       "      <td>...</td>\n",
       "      <td>...</td>\n",
       "      <td>...</td>\n",
       "      <td>...</td>\n",
       "      <td>...</td>\n",
       "      <td>...</td>\n",
       "      <td>...</td>\n",
       "      <td>...</td>\n",
       "      <td>...</td>\n",
       "      <td>...</td>\n",
       "      <td>...</td>\n",
       "      <td>...</td>\n",
       "    </tr>\n",
       "    <tr>\n",
       "      <th>24978</th>\n",
       "      <td>11</td>\n",
       "      <td>18</td>\n",
       "      <td>20</td>\n",
       "      <td>13</td>\n",
       "      <td>14</td>\n",
       "      <td>18</td>\n",
       "      <td>2</td>\n",
       "      <td>10</td>\n",
       "      <td>2</td>\n",
       "      <td>18</td>\n",
       "      <td>...</td>\n",
       "      <td>20</td>\n",
       "      <td>10</td>\n",
       "      <td>20</td>\n",
       "      <td>4</td>\n",
       "      <td>19</td>\n",
       "      <td>20</td>\n",
       "      <td>18</td>\n",
       "      <td>20</td>\n",
       "      <td>20</td>\n",
       "      <td>18</td>\n",
       "    </tr>\n",
       "    <tr>\n",
       "      <th>24979</th>\n",
       "      <td>20</td>\n",
       "      <td>3</td>\n",
       "      <td>20</td>\n",
       "      <td>20</td>\n",
       "      <td>12</td>\n",
       "      <td>2</td>\n",
       "      <td>8</td>\n",
       "      <td>17</td>\n",
       "      <td>3</td>\n",
       "      <td>16</td>\n",
       "      <td>...</td>\n",
       "      <td>10</td>\n",
       "      <td>5</td>\n",
       "      <td>10</td>\n",
       "      <td>11</td>\n",
       "      <td>20</td>\n",
       "      <td>3</td>\n",
       "      <td>4</td>\n",
       "      <td>2</td>\n",
       "      <td>20</td>\n",
       "      <td>19</td>\n",
       "    </tr>\n",
       "    <tr>\n",
       "      <th>24980</th>\n",
       "      <td>0</td>\n",
       "      <td>0</td>\n",
       "      <td>0</td>\n",
       "      <td>0</td>\n",
       "      <td>3</td>\n",
       "      <td>0</td>\n",
       "      <td>18</td>\n",
       "      <td>4</td>\n",
       "      <td>0</td>\n",
       "      <td>0</td>\n",
       "      <td>...</td>\n",
       "      <td>0</td>\n",
       "      <td>0</td>\n",
       "      <td>0</td>\n",
       "      <td>0</td>\n",
       "      <td>0</td>\n",
       "      <td>0</td>\n",
       "      <td>0</td>\n",
       "      <td>0</td>\n",
       "      <td>0</td>\n",
       "      <td>0</td>\n",
       "    </tr>\n",
       "    <tr>\n",
       "      <th>24981</th>\n",
       "      <td>0</td>\n",
       "      <td>0</td>\n",
       "      <td>0</td>\n",
       "      <td>0</td>\n",
       "      <td>1</td>\n",
       "      <td>0</td>\n",
       "      <td>16</td>\n",
       "      <td>3</td>\n",
       "      <td>0</td>\n",
       "      <td>0</td>\n",
       "      <td>...</td>\n",
       "      <td>0</td>\n",
       "      <td>0</td>\n",
       "      <td>0</td>\n",
       "      <td>0</td>\n",
       "      <td>0</td>\n",
       "      <td>0</td>\n",
       "      <td>0</td>\n",
       "      <td>0</td>\n",
       "      <td>0</td>\n",
       "      <td>0</td>\n",
       "    </tr>\n",
       "    <tr>\n",
       "      <th>24982</th>\n",
       "      <td>13</td>\n",
       "      <td>14</td>\n",
       "      <td>7</td>\n",
       "      <td>15</td>\n",
       "      <td>9</td>\n",
       "      <td>18</td>\n",
       "      <td>13</td>\n",
       "      <td>16</td>\n",
       "      <td>18</td>\n",
       "      <td>16</td>\n",
       "      <td>...</td>\n",
       "      <td>0</td>\n",
       "      <td>0</td>\n",
       "      <td>0</td>\n",
       "      <td>0</td>\n",
       "      <td>0</td>\n",
       "      <td>0</td>\n",
       "      <td>0</td>\n",
       "      <td>0</td>\n",
       "      <td>0</td>\n",
       "      <td>0</td>\n",
       "    </tr>\n",
       "  </tbody>\n",
       "</table>\n",
       "<p>24983 rows × 100 columns</p>\n",
       "</div>"
      ],
      "text/plain": [
       "       1    2    3    4    5    6    7    8    9    10   ...  91   92   93   \\\n",
       "0        3   20    1    3    3    2    1   15    2    6  ...   14    0    0   \n",
       "1       15   11   17   15    9    1   10    6   20   20  ...   14    6   11   \n",
       "2        0    0    0    0   20   20   20   20    0    0  ...    0    0    0   \n",
       "3        0   19    0    0   13   19    8   17    0   13  ...    0    0    0   \n",
       "4       20   16    7    6   12   13   18   16   11   17  ...   16   17   15   \n",
       "...    ...  ...  ...  ...  ...  ...  ...  ...  ...  ...  ...  ...  ...  ...   \n",
       "24978   11   18   20   13   14   18    2   10    2   18  ...   20   10   20   \n",
       "24979   20    3   20   20   12    2    8   17    3   16  ...   10    5   10   \n",
       "24980    0    0    0    0    3    0   18    4    0    0  ...    0    0    0   \n",
       "24981    0    0    0    0    1    0   16    3    0    0  ...    0    0    0   \n",
       "24982   13   14    7   15    9   18   13   16   18   16  ...    0    0    0   \n",
       "\n",
       "       94   95   96   97   98   99   100  \n",
       "0        0    0    0    5    0    0    0  \n",
       "1       19   11    9   14   11    7   12  \n",
       "2       20    0    0    0    0    0    0  \n",
       "3       12    0    0    0    0    0    0  \n",
       "4       16   17   13   14   18   13   13  \n",
       "...    ...  ...  ...  ...  ...  ...  ...  \n",
       "24978    4   19   20   18   20   20   18  \n",
       "24979   11   20    3    4    2   20   19  \n",
       "24980    0    0    0    0    0    0    0  \n",
       "24981    0    0    0    0    0    0    0  \n",
       "24982    0    0    0    0    0    0    0  \n",
       "\n",
       "[24983 rows x 100 columns]"
      ]
     },
     "execution_count": 21,
     "metadata": {},
     "output_type": "execute_result"
    }
   ],
   "source": [
    "jester_df = load_dataset(\"jester\")\n",
    "jester_df"
   ]
  },
  {
   "cell_type": "code",
   "execution_count": 22,
   "metadata": {
    "collapsed": false,
    "pycharm": {
     "name": "#%%\n"
    }
   },
   "outputs": [
    {
     "data": {
      "text/html": [
       "<div>\n",
       "<style scoped>\n",
       "    .dataframe tbody tr th:only-of-type {\n",
       "        vertical-align: middle;\n",
       "    }\n",
       "\n",
       "    .dataframe tbody tr th {\n",
       "        vertical-align: top;\n",
       "    }\n",
       "\n",
       "    .dataframe thead th {\n",
       "        text-align: right;\n",
       "    }\n",
       "</style>\n",
       "<table border=\"1\" class=\"dataframe\">\n",
       "  <thead>\n",
       "    <tr style=\"text-align: right;\">\n",
       "      <th></th>\n",
       "      <th>1</th>\n",
       "      <th>2</th>\n",
       "      <th>3</th>\n",
       "      <th>4</th>\n",
       "      <th>5</th>\n",
       "      <th>6</th>\n",
       "      <th>7</th>\n",
       "      <th>8</th>\n",
       "      <th>9</th>\n",
       "      <th>10</th>\n",
       "      <th>...</th>\n",
       "      <th>91</th>\n",
       "      <th>92</th>\n",
       "      <th>93</th>\n",
       "      <th>94</th>\n",
       "      <th>95</th>\n",
       "      <th>96</th>\n",
       "      <th>97</th>\n",
       "      <th>98</th>\n",
       "      <th>99</th>\n",
       "      <th>100</th>\n",
       "    </tr>\n",
       "  </thead>\n",
       "  <tbody>\n",
       "    <tr>\n",
       "      <th>0</th>\n",
       "      <td>-7.82</td>\n",
       "      <td>8.79</td>\n",
       "      <td>-9.66</td>\n",
       "      <td>-8.16</td>\n",
       "      <td>-7.52</td>\n",
       "      <td>-8.50</td>\n",
       "      <td>-9.85</td>\n",
       "      <td>4.17</td>\n",
       "      <td>-8.98</td>\n",
       "      <td>-4.76</td>\n",
       "      <td>...</td>\n",
       "      <td>2.82</td>\n",
       "      <td>NaN</td>\n",
       "      <td>NaN</td>\n",
       "      <td>NaN</td>\n",
       "      <td>NaN</td>\n",
       "      <td>NaN</td>\n",
       "      <td>-5.63</td>\n",
       "      <td>NaN</td>\n",
       "      <td>NaN</td>\n",
       "      <td>NaN</td>\n",
       "    </tr>\n",
       "    <tr>\n",
       "      <th>1</th>\n",
       "      <td>4.08</td>\n",
       "      <td>-0.29</td>\n",
       "      <td>6.36</td>\n",
       "      <td>4.37</td>\n",
       "      <td>-2.38</td>\n",
       "      <td>-9.66</td>\n",
       "      <td>-0.73</td>\n",
       "      <td>-5.34</td>\n",
       "      <td>8.88</td>\n",
       "      <td>9.22</td>\n",
       "      <td>...</td>\n",
       "      <td>2.82</td>\n",
       "      <td>-4.95</td>\n",
       "      <td>-0.29</td>\n",
       "      <td>7.86</td>\n",
       "      <td>-0.19</td>\n",
       "      <td>-2.14</td>\n",
       "      <td>3.06</td>\n",
       "      <td>0.34</td>\n",
       "      <td>-4.32</td>\n",
       "      <td>1.07</td>\n",
       "    </tr>\n",
       "    <tr>\n",
       "      <th>2</th>\n",
       "      <td>NaN</td>\n",
       "      <td>NaN</td>\n",
       "      <td>NaN</td>\n",
       "      <td>NaN</td>\n",
       "      <td>9.03</td>\n",
       "      <td>9.27</td>\n",
       "      <td>9.03</td>\n",
       "      <td>9.27</td>\n",
       "      <td>NaN</td>\n",
       "      <td>NaN</td>\n",
       "      <td>...</td>\n",
       "      <td>NaN</td>\n",
       "      <td>NaN</td>\n",
       "      <td>NaN</td>\n",
       "      <td>9.08</td>\n",
       "      <td>NaN</td>\n",
       "      <td>NaN</td>\n",
       "      <td>NaN</td>\n",
       "      <td>NaN</td>\n",
       "      <td>NaN</td>\n",
       "      <td>NaN</td>\n",
       "    </tr>\n",
       "    <tr>\n",
       "      <th>3</th>\n",
       "      <td>NaN</td>\n",
       "      <td>8.35</td>\n",
       "      <td>NaN</td>\n",
       "      <td>NaN</td>\n",
       "      <td>1.80</td>\n",
       "      <td>8.16</td>\n",
       "      <td>-2.82</td>\n",
       "      <td>6.21</td>\n",
       "      <td>NaN</td>\n",
       "      <td>1.84</td>\n",
       "      <td>...</td>\n",
       "      <td>NaN</td>\n",
       "      <td>NaN</td>\n",
       "      <td>NaN</td>\n",
       "      <td>0.53</td>\n",
       "      <td>NaN</td>\n",
       "      <td>NaN</td>\n",
       "      <td>NaN</td>\n",
       "      <td>NaN</td>\n",
       "      <td>NaN</td>\n",
       "      <td>NaN</td>\n",
       "    </tr>\n",
       "    <tr>\n",
       "      <th>4</th>\n",
       "      <td>8.50</td>\n",
       "      <td>4.61</td>\n",
       "      <td>-4.17</td>\n",
       "      <td>-5.39</td>\n",
       "      <td>1.36</td>\n",
       "      <td>1.60</td>\n",
       "      <td>7.04</td>\n",
       "      <td>4.61</td>\n",
       "      <td>-0.44</td>\n",
       "      <td>5.73</td>\n",
       "      <td>...</td>\n",
       "      <td>5.19</td>\n",
       "      <td>5.58</td>\n",
       "      <td>4.27</td>\n",
       "      <td>5.19</td>\n",
       "      <td>5.73</td>\n",
       "      <td>1.55</td>\n",
       "      <td>3.11</td>\n",
       "      <td>6.55</td>\n",
       "      <td>1.80</td>\n",
       "      <td>1.60</td>\n",
       "    </tr>\n",
       "    <tr>\n",
       "      <th>...</th>\n",
       "      <td>...</td>\n",
       "      <td>...</td>\n",
       "      <td>...</td>\n",
       "      <td>...</td>\n",
       "      <td>...</td>\n",
       "      <td>...</td>\n",
       "      <td>...</td>\n",
       "      <td>...</td>\n",
       "      <td>...</td>\n",
       "      <td>...</td>\n",
       "      <td>...</td>\n",
       "      <td>...</td>\n",
       "      <td>...</td>\n",
       "      <td>...</td>\n",
       "      <td>...</td>\n",
       "      <td>...</td>\n",
       "      <td>...</td>\n",
       "      <td>...</td>\n",
       "      <td>...</td>\n",
       "      <td>...</td>\n",
       "      <td>...</td>\n",
       "    </tr>\n",
       "    <tr>\n",
       "      <th>24978</th>\n",
       "      <td>0.44</td>\n",
       "      <td>7.43</td>\n",
       "      <td>9.08</td>\n",
       "      <td>2.33</td>\n",
       "      <td>3.20</td>\n",
       "      <td>6.75</td>\n",
       "      <td>-8.79</td>\n",
       "      <td>-0.53</td>\n",
       "      <td>-8.74</td>\n",
       "      <td>7.23</td>\n",
       "      <td>...</td>\n",
       "      <td>8.83</td>\n",
       "      <td>-1.21</td>\n",
       "      <td>9.22</td>\n",
       "      <td>-6.70</td>\n",
       "      <td>8.45</td>\n",
       "      <td>9.03</td>\n",
       "      <td>6.55</td>\n",
       "      <td>8.69</td>\n",
       "      <td>8.79</td>\n",
       "      <td>7.43</td>\n",
       "    </tr>\n",
       "    <tr>\n",
       "      <th>24979</th>\n",
       "      <td>9.13</td>\n",
       "      <td>-8.16</td>\n",
       "      <td>8.59</td>\n",
       "      <td>9.08</td>\n",
       "      <td>0.87</td>\n",
       "      <td>-8.93</td>\n",
       "      <td>-3.50</td>\n",
       "      <td>5.78</td>\n",
       "      <td>-8.11</td>\n",
       "      <td>4.90</td>\n",
       "      <td>...</td>\n",
       "      <td>-1.17</td>\n",
       "      <td>-5.73</td>\n",
       "      <td>-1.46</td>\n",
       "      <td>0.24</td>\n",
       "      <td>9.22</td>\n",
       "      <td>-8.20</td>\n",
       "      <td>-7.23</td>\n",
       "      <td>-8.59</td>\n",
       "      <td>9.13</td>\n",
       "      <td>8.45</td>\n",
       "    </tr>\n",
       "    <tr>\n",
       "      <th>24980</th>\n",
       "      <td>NaN</td>\n",
       "      <td>NaN</td>\n",
       "      <td>NaN</td>\n",
       "      <td>NaN</td>\n",
       "      <td>-7.77</td>\n",
       "      <td>NaN</td>\n",
       "      <td>6.70</td>\n",
       "      <td>-6.75</td>\n",
       "      <td>NaN</td>\n",
       "      <td>NaN</td>\n",
       "      <td>...</td>\n",
       "      <td>NaN</td>\n",
       "      <td>NaN</td>\n",
       "      <td>NaN</td>\n",
       "      <td>NaN</td>\n",
       "      <td>NaN</td>\n",
       "      <td>NaN</td>\n",
       "      <td>NaN</td>\n",
       "      <td>NaN</td>\n",
       "      <td>NaN</td>\n",
       "      <td>NaN</td>\n",
       "    </tr>\n",
       "    <tr>\n",
       "      <th>24981</th>\n",
       "      <td>NaN</td>\n",
       "      <td>NaN</td>\n",
       "      <td>NaN</td>\n",
       "      <td>NaN</td>\n",
       "      <td>-9.71</td>\n",
       "      <td>NaN</td>\n",
       "      <td>4.56</td>\n",
       "      <td>-8.30</td>\n",
       "      <td>NaN</td>\n",
       "      <td>NaN</td>\n",
       "      <td>...</td>\n",
       "      <td>NaN</td>\n",
       "      <td>NaN</td>\n",
       "      <td>NaN</td>\n",
       "      <td>NaN</td>\n",
       "      <td>NaN</td>\n",
       "      <td>NaN</td>\n",
       "      <td>NaN</td>\n",
       "      <td>NaN</td>\n",
       "      <td>NaN</td>\n",
       "      <td>NaN</td>\n",
       "    </tr>\n",
       "    <tr>\n",
       "      <th>24982</th>\n",
       "      <td>2.43</td>\n",
       "      <td>2.67</td>\n",
       "      <td>-3.98</td>\n",
       "      <td>4.27</td>\n",
       "      <td>-2.28</td>\n",
       "      <td>7.33</td>\n",
       "      <td>2.33</td>\n",
       "      <td>4.56</td>\n",
       "      <td>6.75</td>\n",
       "      <td>4.61</td>\n",
       "      <td>...</td>\n",
       "      <td>NaN</td>\n",
       "      <td>NaN</td>\n",
       "      <td>NaN</td>\n",
       "      <td>NaN</td>\n",
       "      <td>NaN</td>\n",
       "      <td>NaN</td>\n",
       "      <td>NaN</td>\n",
       "      <td>NaN</td>\n",
       "      <td>NaN</td>\n",
       "      <td>NaN</td>\n",
       "    </tr>\n",
       "  </tbody>\n",
       "</table>\n",
       "<p>24983 rows × 100 columns</p>\n",
       "</div>"
      ],
      "text/plain": [
       "        1     2     3     4     5     6     7     8     9     10   ...   91   \\\n",
       "0     -7.82  8.79 -9.66 -8.16 -7.52 -8.50 -9.85  4.17 -8.98 -4.76  ...  2.82   \n",
       "1      4.08 -0.29  6.36  4.37 -2.38 -9.66 -0.73 -5.34  8.88  9.22  ...  2.82   \n",
       "2       NaN   NaN   NaN   NaN  9.03  9.27  9.03  9.27   NaN   NaN  ...   NaN   \n",
       "3       NaN  8.35   NaN   NaN  1.80  8.16 -2.82  6.21   NaN  1.84  ...   NaN   \n",
       "4      8.50  4.61 -4.17 -5.39  1.36  1.60  7.04  4.61 -0.44  5.73  ...  5.19   \n",
       "...     ...   ...   ...   ...   ...   ...   ...   ...   ...   ...  ...   ...   \n",
       "24978  0.44  7.43  9.08  2.33  3.20  6.75 -8.79 -0.53 -8.74  7.23  ...  8.83   \n",
       "24979  9.13 -8.16  8.59  9.08  0.87 -8.93 -3.50  5.78 -8.11  4.90  ... -1.17   \n",
       "24980   NaN   NaN   NaN   NaN -7.77   NaN  6.70 -6.75   NaN   NaN  ...   NaN   \n",
       "24981   NaN   NaN   NaN   NaN -9.71   NaN  4.56 -8.30   NaN   NaN  ...   NaN   \n",
       "24982  2.43  2.67 -3.98  4.27 -2.28  7.33  2.33  4.56  6.75  4.61  ...   NaN   \n",
       "\n",
       "        92    93    94    95    96    97    98    99    100  \n",
       "0       NaN   NaN   NaN   NaN   NaN -5.63   NaN   NaN   NaN  \n",
       "1     -4.95 -0.29  7.86 -0.19 -2.14  3.06  0.34 -4.32  1.07  \n",
       "2       NaN   NaN  9.08   NaN   NaN   NaN   NaN   NaN   NaN  \n",
       "3       NaN   NaN  0.53   NaN   NaN   NaN   NaN   NaN   NaN  \n",
       "4      5.58  4.27  5.19  5.73  1.55  3.11  6.55  1.80  1.60  \n",
       "...     ...   ...   ...   ...   ...   ...   ...   ...   ...  \n",
       "24978 -1.21  9.22 -6.70  8.45  9.03  6.55  8.69  8.79  7.43  \n",
       "24979 -5.73 -1.46  0.24  9.22 -8.20 -7.23 -8.59  9.13  8.45  \n",
       "24980   NaN   NaN   NaN   NaN   NaN   NaN   NaN   NaN   NaN  \n",
       "24981   NaN   NaN   NaN   NaN   NaN   NaN   NaN   NaN   NaN  \n",
       "24982   NaN   NaN   NaN   NaN   NaN   NaN   NaN   NaN   NaN  \n",
       "\n",
       "[24983 rows x 100 columns]"
      ]
     },
     "execution_count": 22,
     "metadata": {},
     "output_type": "execute_result"
    }
   ],
   "source": [
    "# Without preprocessing\n",
    "original_jester_df = load_dataset(\"jester\", preprocessing=False)\n",
    "original_jester_df"
   ]
  },
  {
   "cell_type": "code",
   "execution_count": 23,
   "metadata": {
    "collapsed": false,
    "pycharm": {
     "name": "#%%\n"
    }
   },
   "outputs": [],
   "source": [
    "def normalize(df_to_normalize: pd.DataFrame):\n",
    "    return df_to_normalize[df_to_normalize != 0].sub(df_to_normalize[df_to_normalize != 0].mean(axis=1), axis=0).fillna(0)"
   ]
  },
  {
   "cell_type": "markdown",
   "metadata": {
    "collapsed": false,
    "pycharm": {
     "name": "#%% md\n"
    }
   },
   "source": [
    "## Some dataset information"
   ]
  },
  {
   "cell_type": "code",
   "execution_count": 24,
   "metadata": {
    "collapsed": false,
    "pycharm": {
     "name": "#%%\n"
    }
   },
   "outputs": [
    {
     "name": "stdout",
     "output_type": "stream",
     "text": [
      "ML100k density = 0.064\n",
      "Jester density = 0.725\n"
     ]
    }
   ],
   "source": [
    "def density(df: pd.DataFrame):\n",
    "    return (df > 0).values.sum() / (df.shape[0] * df.shape[1])\n",
    "\n",
    "\n",
    "print(f\"ML100k density = {round(density(ml_df), 3)}\")\n",
    "print(f\"Jester density = {round(density(jester_df), 3)}\")"
   ]
  },
  {
   "cell_type": "code",
   "execution_count": 25,
   "metadata": {
    "collapsed": false,
    "pycharm": {
     "name": "#%%\n"
    }
   },
   "outputs": [
    {
     "data": {
      "image/png": "[encoded data removed]",
      "text/plain": [
       "<Figure size 1008x720 with 1 Axes>"
      ]
     },
     "metadata": {},
     "output_type": "display_data"
    }
   ],
   "source": [
    "plt.rcParams['figure.figsize'] = (14, 10)\n",
    "plt.rcParams['axes.labelpad'] = 30\n",
    "sns.set(font_scale=1.5)\n",
    "plt.title(\"Jester rating distribution\", pad=20, fontsize=24)\n",
    "\n",
    "p = sns.countplot(x=surprise_suiting(original_jester_df.round().fillna(0)).rating.astype(int), palette=\"autumn\")"
   ]
  },
  {
   "cell_type": "code",
   "execution_count": 26,
   "metadata": {
    "collapsed": false,
    "pycharm": {
     "name": "#%%\n"
    }
   },
   "outputs": [
    {
     "data": {
      "image/png": "[encoded data removed]",
      "text/plain": [
       "<Figure size 1008x720 with 1 Axes>"
      ]
     },
     "metadata": {},
     "output_type": "display_data"
    }
   ],
   "source": [
    "plt.rcParams['figure.figsize'] = (14, 10)\n",
    "plt.rcParams['axes.labelpad'] = 30\n",
    "sns.set(font_scale=1.5)\n",
    "plt.title(\"MovieLens 100K rating distribution\", pad=20, fontsize=24)\n",
    "\n",
    "_ = sns.countplot(x=surprise_suiting(ml_df).rating.astype(int), palette=\"autumn\")"
   ]
  },
  {
   "cell_type": "markdown",
   "metadata": {
    "collapsed": false,
    "pycharm": {
     "name": "#%% md\n"
    }
   },
   "source": [
    "## Biclusters functions"
   ]
  },
  {
   "cell_type": "code",
   "execution_count": 27,
   "metadata": {
    "collapsed": false,
    "pycharm": {
     "name": "#%%\n"
    }
   },
   "outputs": [],
   "source": [
    "def biclusters_quality(biclusters: Biclustering):\n",
    "    \"\"\"\n",
    "    Calculates the quality of the biclusters: the percentage of biclusters overlapping\n",
    "    :param biclusters: biclustering object\n",
    "    :return: number from 0 to 1. Zero indicates perfect biclusters, while one indicates a full overlapping\n",
    "    \"\"\"\n",
    "    similarity = [cluster.overlap(another) for i, cluster in enumerate(biclusters.biclusters) for another in biclusters.biclusters[i + 1:]]\n",
    "    return np.mean(similarity) if similarity else 0"
   ]
  },
  {
   "cell_type": "code",
   "execution_count": 28,
   "metadata": {
    "collapsed": false,
    "pycharm": {
     "name": "#%%\n"
    }
   },
   "outputs": [],
   "source": [
    "def find_best_biclusters(user: pd.Series, sort_by: str = \"WF\"):\n",
    "    \"\"\"\n",
    "    Return information about the best biclusters for current user: bicluster number - number of appropriate items - weighed frequency\n",
    "    :param user: user to analyse\n",
    "    :param sort_by: name of the column relative to which we sort dataframe\n",
    "    :return: dataframe\n",
    "    \"\"\"\n",
    "    info = []\n",
    "    for i, bicluster in enumerate(ml_y_train_spectral.biclusters):\n",
    "        info.append((i, user[bicluster.cols].sum(), wf(np.array(user), bicluster)))\n",
    "\n",
    "    info.sort(key=lambda x: -x[1])\n",
    "    d = pd.DataFrame(info, columns=[\"Bicluster №\", \"Good Items\", \"WF\"])\n",
    "    d[\"WF\"] = round(d[\"WF\"], 2)\n",
    "    d[\"Good Items\"] = d[\"Good Items\"].astype(int)\n",
    "    return d.sort_values(sort_by, ascending=False)"
   ]
  },
  {
   "cell_type": "code",
   "execution_count": 29,
   "metadata": {
    "collapsed": false,
    "pycharm": {
     "name": "#%%\n"
    }
   },
   "outputs": [],
   "source": [
    "def bicluster_average(sample: pd.DataFrame, bicl: Bicluster):\n",
    "    \"\"\"Calculate average value in bicluster, excluding missing values\"\"\"\n",
    "    t = sample.iloc[bicl.rows, bicl.cols]\n",
    "    if (t > 0).sum().sum() < 1e-6:\n",
    "        return 0\n",
    "    return t[t > 0].sum().sum() / (t > 0).sum().sum()"
   ]
  },
  {
   "cell_type": "code",
   "execution_count": 30,
   "metadata": {
    "collapsed": false,
    "pycharm": {
     "name": "#%%\n"
    }
   },
   "outputs": [],
   "source": [
    "def biclustering_statictics(precisions_lst: list, recalls_lst: list, algo_names: List[str]):\n",
    "    stabilities = [np.round(stability(precisions), 2) for precisions in precisions_lst]\n",
    "    precision_means = [np.round(np.mean(precisions), 2) for precisions in precisions_lst]\n",
    "    recalls_means = [np.round(np.mean(recalls), 2) for recalls in recalls_lst]\n",
    "    f1_score_means = [np.round(np.mean(f1_score(precisions, recalls)), 2) for precisions, recalls in zip(precisions_lst, recalls_lst)]\n",
    "\n",
    "    return pd.DataFrame([stabilities, precision_means, recalls_means, f1_score_means], columns=algo_names, index=[\"Stability\", \"Average precision\", \"Average recall\", \"Average F1 score\"])"
   ]
  },
  {
   "cell_type": "code",
   "execution_count": 31,
   "metadata": {
    "collapsed": false,
    "pycharm": {
     "name": "#%%\n"
    }
   },
   "outputs": [],
   "source": [
    "def user_coverage(df_train: pd.DataFrame, biclustering: Biclustering):\n",
    "    rows = set()\n",
    "    for bicluster in biclustering.biclusters:\n",
    "        rows.update(bicluster.rows)\n",
    "    return len(rows) / len(df_train)\n",
    "\n",
    "\n",
    "def item_coverage(df_train: pd.DataFrame, biclustering: Biclustering):\n",
    "    rows = set()\n",
    "    for bicluster in biclustering.biclusters:\n",
    "        rows.update(bicluster.cols)\n",
    "    return len(rows) / df_train.shape[1]\n",
    "\n",
    "\n",
    "def coveragies(df_train: pd.DataFrame, y_trains: list, algo_names: list):\n",
    "    uc_all = [round(user_coverage(df_train, y_train_cur) * 100, 1) for y_train_cur in y_trains]\n",
    "    ic_all = [round(item_coverage(df_train, y_train_cur) * 100, 1) for y_train_cur in y_trains]\n",
    "    return pd.DataFrame(data=[uc_all, ic_all, (np.array(uc_all) + np.array(ic_all)) / 2],\n",
    "                        columns=algo_names, index=[\"User Coverage (%)\", \"Item Coverage (%)\", \"Mean Coverage (%)\"])"
   ]
  },
  {
   "cell_type": "markdown",
   "metadata": {
    "collapsed": false,
    "pycharm": {
     "name": "#%% md\n"
    }
   },
   "source": [
    "## Naive KNN Biclustering"
   ]
  },
  {
   "cell_type": "code",
   "execution_count": 32,
   "metadata": {
    "collapsed": false,
    "pycharm": {
     "name": "#%%\n"
    }
   },
   "outputs": [],
   "source": [
    "class NaiveKNNBiclustering:\n",
    "    def __init__(self, positive_threshold: float, user_n_clusters: int = 5, item_n_clusters: int = 5):\n",
    "        self.threshold = positive_threshold\n",
    "        self.user_n_clusters = user_n_clusters\n",
    "        self.item_n_clusters = item_n_clusters\n",
    "\n",
    "\n",
    "    def run(self, train: pd.DataFrame):\n",
    "        from sklearn.cluster import KMeans # KNN clustering\n",
    "\n",
    "        # Users clustering\n",
    "        model_users = KMeans(self.user_n_clusters)\n",
    "        model_users.fit(train)\n",
    "        labels_users = pd.Series(model_users.labels_)\n",
    "\n",
    "        # Items clustering\n",
    "        model_items = KMeans(self.user_n_clusters)\n",
    "        model_items.fit(train.T)\n",
    "        labels_items = pd.Series(model_items.labels_)\n",
    "\n",
    "        # Transform into list of rows and then create Biclustering\n",
    "        rows_clusters = [list(labels_users[labels_users == i].index) for i in range(self.user_n_clusters)]\n",
    "        cols_clusters = [list(labels_items[labels_items == i].index) for i in range(self.user_n_clusters)]\n",
    "\n",
    "        y_train_test_knn = Biclustering([Bicluster(r, c) for r in rows_clusters for c in cols_clusters])\n",
    "        len(y_train_test_knn.biclusters)\n",
    "\n",
    "        # Remove 'bad' biclusters with average value less than positive threshold\n",
    "        return Biclustering([c for c in y_train_test_knn.biclusters if bicluster_average(train, c) > self.threshold])"
   ]
  },
  {
   "cell_type": "markdown",
   "metadata": {
    "collapsed": false,
    "pycharm": {
     "name": "#%% md\n"
    }
   },
   "source": [
    "# Graphs"
   ]
  },
  {
   "cell_type": "code",
   "execution_count": 33,
   "metadata": {
    "collapsed": false,
    "pycharm": {
     "name": "#%%\n"
    }
   },
   "outputs": [],
   "source": [
    "# Array of recommendations numbers\n",
    "items_count = np.arange(5, 55, 5)\n",
    "\n",
    "\n",
    "def plot_metric_N_recom(metric_name: str, dataset_name: str, metric_values: List[list], algo_names: List[str], legend_loc: str = \"upper right\"):\n",
    "    # Matplotlib settings\n",
    "    plt.rcParams['figure.figsize'] = (15, 11)\n",
    "    plt.rcParams['axes.labelpad'] = 30\n",
    "    sns.set(font_scale=1.5)\n",
    "    plt.ylim(0, 1)\n",
    "    sns.set_theme(style=\"white\")\n",
    "    plt.xlabel(\"N recommendations\")\n",
    "    plt.ylabel(metric_name)\n",
    "    plt.title(dataset_name, pad=20, fontsize=24)\n",
    "\n",
    "    # Plotting\n",
    "    prec = pd.DataFrame(metric_values, index=algo_names, columns=items_count)\n",
    "    _ = sns.lineplot(data=prec.T, linewidth=4, dashes=False)\n",
    "    l = plt.legend(fontsize=14, loc=legend_loc)\n",
    "    for handler in l.legendHandles:\n",
    "        handler.set_linewidth(5)"
   ]
  },
  {
   "cell_type": "markdown",
   "metadata": {
    "collapsed": false,
    "pycharm": {
     "name": "#%% md\n"
    }
   },
   "source": [
    "## Movielens"
   ]
  },
  {
   "cell_type": "code",
   "execution_count": 34,
   "metadata": {
    "collapsed": false,
    "pycharm": {
     "name": "#%%\n"
    }
   },
   "outputs": [],
   "source": [
    "# Split by train and test\n",
    "ml_train = ml_df.iloc[:700]\n",
    "ml_test = ml_df.iloc[700:]"
   ]
  },
  {
   "cell_type": "code",
   "execution_count": 35,
   "metadata": {
    "collapsed": false,
    "pycharm": {
     "name": "#%%\n"
    }
   },
   "outputs": [
    {
     "name": "stderr",
     "output_type": "stream",
     "text": [
      "c:\\Users\\Razmik\\anaconda3\\lib\\site-packages\\sklearn\\cluster\\_kmeans.py:1332: UserWarning: KMeans is known to have a memory leak on Windows with MKL, when there are less chunks than available threads. You can avoid it by setting the environment variable OMP_NUM_THREADS=3.\n",
      "  warnings.warn(\n",
      "c:\\Users\\Razmik\\anaconda3\\lib\\site-packages\\sklearn\\cluster\\_kmeans.py:1332: UserWarning: KMeans is known to have a memory leak on Windows with MKL, when there are less chunks than available threads. You can avoid it by setting the environment variable OMP_NUM_THREADS=7.\n",
      "  warnings.warn(\n",
      "c:\\Users\\Razmik\\anaconda3\\lib\\site-packages\\sklearn\\cluster\\_kmeans.py:1332: UserWarning: KMeans is known to have a memory leak on Windows with MKL, when there are less chunks than available threads. You can avoid it by setting the environment variable OMP_NUM_THREADS=3.\n",
      "  warnings.warn(\n",
      "c:\\Users\\Razmik\\anaconda3\\lib\\site-packages\\sklearn\\cluster\\_kmeans.py:1332: UserWarning: KMeans is known to have a memory leak on Windows with MKL, when there are less chunks than available threads. You can avoid it by setting the environment variable OMP_NUM_THREADS=7.\n",
      "  warnings.warn(\n",
      "c:\\Users\\Razmik\\anaconda3\\lib\\site-packages\\sklearn\\cluster\\_kmeans.py:1332: UserWarning: KMeans is known to have a memory leak on Windows with MKL, when there are less chunks than available threads. You can avoid it by setting the environment variable OMP_NUM_THREADS=3.\n",
      "  warnings.warn(\n",
      "c:\\Users\\Razmik\\anaconda3\\lib\\site-packages\\sklearn\\cluster\\_kmeans.py:1332: UserWarning: KMeans is known to have a memory leak on Windows with MKL, when there are less chunks than available threads. You can avoid it by setting the environment variable OMP_NUM_THREADS=7.\n",
      "  warnings.warn(\n",
      "c:\\Users\\Razmik\\anaconda3\\lib\\site-packages\\sklearn\\cluster\\_kmeans.py:1332: UserWarning: KMeans is known to have a memory leak on Windows with MKL, when there are less chunks than available threads. You can avoid it by setting the environment variable OMP_NUM_THREADS=3.\n",
      "  warnings.warn(\n",
      "c:\\Users\\Razmik\\anaconda3\\lib\\site-packages\\sklearn\\cluster\\_kmeans.py:1332: UserWarning: KMeans is known to have a memory leak on Windows with MKL, when there are less chunks than available threads. You can avoid it by setting the environment variable OMP_NUM_THREADS=7.\n",
      "  warnings.warn(\n",
      "c:\\Users\\Razmik\\anaconda3\\lib\\site-packages\\sklearn\\cluster\\_kmeans.py:1332: UserWarning: KMeans is known to have a memory leak on Windows with MKL, when there are less chunks than available threads. You can avoid it by setting the environment variable OMP_NUM_THREADS=3.\n",
      "  warnings.warn(\n",
      "c:\\Users\\Razmik\\anaconda3\\lib\\site-packages\\sklearn\\cluster\\_kmeans.py:1332: UserWarning: KMeans is known to have a memory leak on Windows with MKL, when there are less chunks than available threads. You can avoid it by setting the environment variable OMP_NUM_THREADS=7.\n",
      "  warnings.warn(\n",
      "c:\\Users\\Razmik\\anaconda3\\lib\\site-packages\\sklearn\\cluster\\_kmeans.py:1332: UserWarning: KMeans is known to have a memory leak on Windows with MKL, when there are less chunks than available threads. You can avoid it by setting the environment variable OMP_NUM_THREADS=3.\n",
      "  warnings.warn(\n",
      "c:\\Users\\Razmik\\anaconda3\\lib\\site-packages\\sklearn\\cluster\\_kmeans.py:1332: UserWarning: KMeans is known to have a memory leak on Windows with MKL, when there are less chunks than available threads. You can avoid it by setting the environment variable OMP_NUM_THREADS=7.\n",
      "  warnings.warn(\n",
      "c:\\Users\\Razmik\\anaconda3\\lib\\site-packages\\sklearn\\cluster\\_kmeans.py:1332: UserWarning: KMeans is known to have a memory leak on Windows with MKL, when there are less chunks than available threads. You can avoid it by setting the environment variable OMP_NUM_THREADS=3.\n",
      "  warnings.warn(\n",
      "c:\\Users\\Razmik\\anaconda3\\lib\\site-packages\\sklearn\\cluster\\_kmeans.py:1332: UserWarning: KMeans is known to have a memory leak on Windows with MKL, when there are less chunks than available threads. You can avoid it by setting the environment variable OMP_NUM_THREADS=7.\n",
      "  warnings.warn(\n",
      "c:\\Users\\Razmik\\anaconda3\\lib\\site-packages\\sklearn\\cluster\\_kmeans.py:1332: UserWarning: KMeans is known to have a memory leak on Windows with MKL, when there are less chunks than available threads. You can avoid it by setting the environment variable OMP_NUM_THREADS=3.\n",
      "  warnings.warn(\n",
      "c:\\Users\\Razmik\\anaconda3\\lib\\site-packages\\sklearn\\cluster\\_kmeans.py:1332: UserWarning: KMeans is known to have a memory leak on Windows with MKL, when there are less chunks than available threads. You can avoid it by setting the environment variable OMP_NUM_THREADS=7.\n",
      "  warnings.warn(\n",
      "c:\\Users\\Razmik\\anaconda3\\lib\\site-packages\\sklearn\\cluster\\_kmeans.py:1332: UserWarning: KMeans is known to have a memory leak on Windows with MKL, when there are less chunks than available threads. You can avoid it by setting the environment variable OMP_NUM_THREADS=3.\n",
      "  warnings.warn(\n",
      "c:\\Users\\Razmik\\anaconda3\\lib\\site-packages\\sklearn\\cluster\\_kmeans.py:1332: UserWarning: KMeans is known to have a memory leak on Windows with MKL, when there are less chunks than available threads. You can avoid it by setting the environment variable OMP_NUM_THREADS=7.\n",
      "  warnings.warn(\n",
      "c:\\Users\\Razmik\\anaconda3\\lib\\site-packages\\sklearn\\cluster\\_kmeans.py:1332: UserWarning: KMeans is known to have a memory leak on Windows with MKL, when there are less chunks than available threads. You can avoid it by setting the environment variable OMP_NUM_THREADS=3.\n",
      "  warnings.warn(\n",
      "c:\\Users\\Razmik\\anaconda3\\lib\\site-packages\\sklearn\\cluster\\_kmeans.py:1332: UserWarning: KMeans is known to have a memory leak on Windows with MKL, when there are less chunks than available threads. You can avoid it by setting the environment variable OMP_NUM_THREADS=7.\n",
      "  warnings.warn(\n",
      "c:\\Users\\Razmik\\anaconda3\\lib\\site-packages\\sklearn\\cluster\\_kmeans.py:1332: UserWarning: KMeans is known to have a memory leak on Windows with MKL, when there are less chunks than available threads. You can avoid it by setting the environment variable OMP_NUM_THREADS=3.\n",
      "  warnings.warn(\n",
      "c:\\Users\\Razmik\\anaconda3\\lib\\site-packages\\sklearn\\cluster\\_kmeans.py:1332: UserWarning: KMeans is known to have a memory leak on Windows with MKL, when there are less chunks than available threads. You can avoid it by setting the environment variable OMP_NUM_THREADS=7.\n",
      "  warnings.warn(\n",
      "c:\\Users\\Razmik\\anaconda3\\lib\\site-packages\\sklearn\\cluster\\_kmeans.py:1332: UserWarning: KMeans is known to have a memory leak on Windows with MKL, when there are less chunks than available threads. You can avoid it by setting the environment variable OMP_NUM_THREADS=3.\n",
      "  warnings.warn(\n",
      "c:\\Users\\Razmik\\anaconda3\\lib\\site-packages\\sklearn\\cluster\\_kmeans.py:1332: UserWarning: KMeans is known to have a memory leak on Windows with MKL, when there are less chunks than available threads. You can avoid it by setting the environment variable OMP_NUM_THREADS=7.\n",
      "  warnings.warn(\n",
      "c:\\Users\\Razmik\\anaconda3\\lib\\site-packages\\sklearn\\cluster\\_kmeans.py:1332: UserWarning: KMeans is known to have a memory leak on Windows with MKL, when there are less chunks than available threads. You can avoid it by setting the environment variable OMP_NUM_THREADS=3.\n",
      "  warnings.warn(\n",
      "c:\\Users\\Razmik\\anaconda3\\lib\\site-packages\\sklearn\\cluster\\_kmeans.py:1332: UserWarning: KMeans is known to have a memory leak on Windows with MKL, when there are less chunks than available threads. You can avoid it by setting the environment variable OMP_NUM_THREADS=7.\n",
      "  warnings.warn(\n",
      "c:\\Users\\Razmik\\anaconda3\\lib\\site-packages\\sklearn\\cluster\\_kmeans.py:1332: UserWarning: KMeans is known to have a memory leak on Windows with MKL, when there are less chunks than available threads. You can avoid it by setting the environment variable OMP_NUM_THREADS=3.\n",
      "  warnings.warn(\n",
      "c:\\Users\\Razmik\\anaconda3\\lib\\site-packages\\sklearn\\cluster\\_kmeans.py:1332: UserWarning: KMeans is known to have a memory leak on Windows with MKL, when there are less chunks than available threads. You can avoid it by setting the environment variable OMP_NUM_THREADS=7.\n",
      "  warnings.warn(\n",
      "c:\\Users\\Razmik\\anaconda3\\lib\\site-packages\\sklearn\\cluster\\_kmeans.py:1332: UserWarning: KMeans is known to have a memory leak on Windows with MKL, when there are less chunks than available threads. You can avoid it by setting the environment variable OMP_NUM_THREADS=3.\n",
      "  warnings.warn(\n",
      "c:\\Users\\Razmik\\anaconda3\\lib\\site-packages\\sklearn\\cluster\\_kmeans.py:1332: UserWarning: KMeans is known to have a memory leak on Windows with MKL, when there are less chunks than available threads. You can avoid it by setting the environment variable OMP_NUM_THREADS=7.\n",
      "  warnings.warn(\n",
      "c:\\Users\\Razmik\\anaconda3\\lib\\site-packages\\sklearn\\cluster\\_kmeans.py:1332: UserWarning: KMeans is known to have a memory leak on Windows with MKL, when there are less chunks than available threads. You can avoid it by setting the environment variable OMP_NUM_THREADS=3.\n",
      "  warnings.warn(\n",
      "c:\\Users\\Razmik\\anaconda3\\lib\\site-packages\\sklearn\\cluster\\_kmeans.py:1332: UserWarning: KMeans is known to have a memory leak on Windows with MKL, when there are less chunks than available threads. You can avoid it by setting the environment variable OMP_NUM_THREADS=7.\n",
      "  warnings.warn(\n",
      "c:\\Users\\Razmik\\anaconda3\\lib\\site-packages\\sklearn\\cluster\\_kmeans.py:1332: UserWarning: KMeans is known to have a memory leak on Windows with MKL, when there are less chunks than available threads. You can avoid it by setting the environment variable OMP_NUM_THREADS=3.\n",
      "  warnings.warn(\n",
      "c:\\Users\\Razmik\\anaconda3\\lib\\site-packages\\sklearn\\cluster\\_kmeans.py:1332: UserWarning: KMeans is known to have a memory leak on Windows with MKL, when there are less chunks than available threads. You can avoid it by setting the environment variable OMP_NUM_THREADS=7.\n",
      "  warnings.warn(\n",
      "c:\\Users\\Razmik\\anaconda3\\lib\\site-packages\\sklearn\\cluster\\_kmeans.py:1332: UserWarning: KMeans is known to have a memory leak on Windows with MKL, when there are less chunks than available threads. You can avoid it by setting the environment variable OMP_NUM_THREADS=3.\n",
      "  warnings.warn(\n",
      "c:\\Users\\Razmik\\anaconda3\\lib\\site-packages\\sklearn\\cluster\\_kmeans.py:1332: UserWarning: KMeans is known to have a memory leak on Windows with MKL, when there are less chunks than available threads. You can avoid it by setting the environment variable OMP_NUM_THREADS=7.\n",
      "  warnings.warn(\n",
      "c:\\Users\\Razmik\\anaconda3\\lib\\site-packages\\sklearn\\cluster\\_kmeans.py:1332: UserWarning: KMeans is known to have a memory leak on Windows with MKL, when there are less chunks than available threads. You can avoid it by setting the environment variable OMP_NUM_THREADS=3.\n",
      "  warnings.warn(\n",
      "c:\\Users\\Razmik\\anaconda3\\lib\\site-packages\\sklearn\\cluster\\_kmeans.py:1332: UserWarning: KMeans is known to have a memory leak on Windows with MKL, when there are less chunks than available threads. You can avoid it by setting the environment variable OMP_NUM_THREADS=7.\n",
      "  warnings.warn(\n",
      "c:\\Users\\Razmik\\anaconda3\\lib\\site-packages\\sklearn\\cluster\\_kmeans.py:1332: UserWarning: KMeans is known to have a memory leak on Windows with MKL, when there are less chunks than available threads. You can avoid it by setting the environment variable OMP_NUM_THREADS=3.\n",
      "  warnings.warn(\n",
      "c:\\Users\\Razmik\\anaconda3\\lib\\site-packages\\sklearn\\cluster\\_kmeans.py:1332: UserWarning: KMeans is known to have a memory leak on Windows with MKL, when there are less chunks than available threads. You can avoid it by setting the environment variable OMP_NUM_THREADS=7.\n",
      "  warnings.warn(\n",
      "c:\\Users\\Razmik\\anaconda3\\lib\\site-packages\\sklearn\\cluster\\_kmeans.py:1332: UserWarning: KMeans is known to have a memory leak on Windows with MKL, when there are less chunks than available threads. You can avoid it by setting the environment variable OMP_NUM_THREADS=3.\n",
      "  warnings.warn(\n",
      "c:\\Users\\Razmik\\anaconda3\\lib\\site-packages\\sklearn\\cluster\\_kmeans.py:1332: UserWarning: KMeans is known to have a memory leak on Windows with MKL, when there are less chunks than available threads. You can avoid it by setting the environment variable OMP_NUM_THREADS=7.\n",
      "  warnings.warn(\n",
      "c:\\Users\\Razmik\\anaconda3\\lib\\site-packages\\sklearn\\cluster\\_kmeans.py:1332: UserWarning: KMeans is known to have a memory leak on Windows with MKL, when there are less chunks than available threads. You can avoid it by setting the environment variable OMP_NUM_THREADS=3.\n",
      "  warnings.warn(\n",
      "c:\\Users\\Razmik\\anaconda3\\lib\\site-packages\\sklearn\\cluster\\_kmeans.py:1332: UserWarning: KMeans is known to have a memory leak on Windows with MKL, when there are less chunks than available threads. You can avoid it by setting the environment variable OMP_NUM_THREADS=7.\n",
      "  warnings.warn(\n",
      "c:\\Users\\Razmik\\anaconda3\\lib\\site-packages\\sklearn\\cluster\\_kmeans.py:1332: UserWarning: KMeans is known to have a memory leak on Windows with MKL, when there are less chunks than available threads. You can avoid it by setting the environment variable OMP_NUM_THREADS=3.\n",
      "  warnings.warn(\n",
      "c:\\Users\\Razmik\\anaconda3\\lib\\site-packages\\sklearn\\cluster\\_kmeans.py:1332: UserWarning: KMeans is known to have a memory leak on Windows with MKL, when there are less chunks than available threads. You can avoid it by setting the environment variable OMP_NUM_THREADS=7.\n",
      "  warnings.warn(\n",
      "c:\\Users\\Razmik\\anaconda3\\lib\\site-packages\\sklearn\\cluster\\_kmeans.py:1332: UserWarning: KMeans is known to have a memory leak on Windows with MKL, when there are less chunks than available threads. You can avoid it by setting the environment variable OMP_NUM_THREADS=3.\n",
      "  warnings.warn(\n",
      "c:\\Users\\Razmik\\anaconda3\\lib\\site-packages\\sklearn\\cluster\\_kmeans.py:1332: UserWarning: KMeans is known to have a memory leak on Windows with MKL, when there are less chunks than available threads. You can avoid it by setting the environment variable OMP_NUM_THREADS=7.\n",
      "  warnings.warn(\n",
      "c:\\Users\\Razmik\\anaconda3\\lib\\site-packages\\sklearn\\cluster\\_kmeans.py:1332: UserWarning: KMeans is known to have a memory leak on Windows with MKL, when there are less chunks than available threads. You can avoid it by setting the environment variable OMP_NUM_THREADS=3.\n",
      "  warnings.warn(\n",
      "c:\\Users\\Razmik\\anaconda3\\lib\\site-packages\\sklearn\\cluster\\_kmeans.py:1332: UserWarning: KMeans is known to have a memory leak on Windows with MKL, when there are less chunks than available threads. You can avoid it by setting the environment variable OMP_NUM_THREADS=7.\n",
      "  warnings.warn(\n",
      "c:\\Users\\Razmik\\anaconda3\\lib\\site-packages\\sklearn\\cluster\\_kmeans.py:1332: UserWarning: KMeans is known to have a memory leak on Windows with MKL, when there are less chunks than available threads. You can avoid it by setting the environment variable OMP_NUM_THREADS=3.\n",
      "  warnings.warn(\n",
      "c:\\Users\\Razmik\\anaconda3\\lib\\site-packages\\sklearn\\cluster\\_kmeans.py:1332: UserWarning: KMeans is known to have a memory leak on Windows with MKL, when there are less chunks than available threads. You can avoid it by setting the environment variable OMP_NUM_THREADS=7.\n",
      "  warnings.warn(\n",
      "c:\\Users\\Razmik\\anaconda3\\lib\\site-packages\\sklearn\\cluster\\_kmeans.py:1332: UserWarning: KMeans is known to have a memory leak on Windows with MKL, when there are less chunks than available threads. You can avoid it by setting the environment variable OMP_NUM_THREADS=3.\n",
      "  warnings.warn(\n",
      "c:\\Users\\Razmik\\anaconda3\\lib\\site-packages\\sklearn\\cluster\\_kmeans.py:1332: UserWarning: KMeans is known to have a memory leak on Windows with MKL, when there are less chunks than available threads. You can avoid it by setting the environment variable OMP_NUM_THREADS=7.\n",
      "  warnings.warn(\n",
      "c:\\Users\\Razmik\\anaconda3\\lib\\site-packages\\sklearn\\cluster\\_kmeans.py:1332: UserWarning: KMeans is known to have a memory leak on Windows with MKL, when there are less chunks than available threads. You can avoid it by setting the environment variable OMP_NUM_THREADS=3.\n",
      "  warnings.warn(\n",
      "c:\\Users\\Razmik\\anaconda3\\lib\\site-packages\\sklearn\\cluster\\_kmeans.py:1332: UserWarning: KMeans is known to have a memory leak on Windows with MKL, when there are less chunks than available threads. You can avoid it by setting the environment variable OMP_NUM_THREADS=7.\n",
      "  warnings.warn(\n",
      "c:\\Users\\Razmik\\anaconda3\\lib\\site-packages\\sklearn\\cluster\\_kmeans.py:1332: UserWarning: KMeans is known to have a memory leak on Windows with MKL, when there are less chunks than available threads. You can avoid it by setting the environment variable OMP_NUM_THREADS=3.\n",
      "  warnings.warn(\n",
      "c:\\Users\\Razmik\\anaconda3\\lib\\site-packages\\sklearn\\cluster\\_kmeans.py:1332: UserWarning: KMeans is known to have a memory leak on Windows with MKL, when there are less chunks than available threads. You can avoid it by setting the environment variable OMP_NUM_THREADS=7.\n",
      "  warnings.warn(\n",
      "c:\\Users\\Razmik\\anaconda3\\lib\\site-packages\\sklearn\\cluster\\_kmeans.py:1332: UserWarning: KMeans is known to have a memory leak on Windows with MKL, when there are less chunks than available threads. You can avoid it by setting the environment variable OMP_NUM_THREADS=3.\n",
      "  warnings.warn(\n",
      "c:\\Users\\Razmik\\anaconda3\\lib\\site-packages\\sklearn\\cluster\\_kmeans.py:1332: UserWarning: KMeans is known to have a memory leak on Windows with MKL, when there are less chunks than available threads. You can avoid it by setting the environment variable OMP_NUM_THREADS=7.\n",
      "  warnings.warn(\n"
     ]
    },
    {
     "name": "stdout",
     "output_type": "stream",
     "text": [
      "CPU times: total: 3min 52s\n",
      "Wall time: 1min 11s\n"
     ]
    }
   ],
   "source": [
    "%%time\n",
    "# Plaid\n",
    "ml_precisions_plaid, ml_recalls_plaid = getPrecisionsAndRecalls(ml_df, ml_test, ml_y_train_plaid := Plaid(30, True, 0.05, 0.05).run(ml_train), positive_threshold=3)"
   ]
  },
  {
   "cell_type": "code",
   "execution_count": 36,
   "metadata": {
    "collapsed": false,
    "pycharm": {
     "name": "#%%\n"
    }
   },
   "outputs": [
    {
     "name": "stdout",
     "output_type": "stream",
     "text": [
      "CPU times: total: 3min 20s\n",
      "Wall time: 3min 22s\n"
     ]
    }
   ],
   "source": [
    "%%time\n",
    "# LargeAverageSubmatrices\n",
    "ml_precisions_las, ml_recalls_las = getPrecisionsAndRecalls(ml_df, ml_test, ml_y_train_las := LargeAverageSubmatrices(30, 0.8, 100).run(ml_train))"
   ]
  },
  {
   "cell_type": "code",
   "execution_count": 39,
   "metadata": {
    "collapsed": false,
    "pycharm": {
     "name": "#%%\n"
    }
   },
   "outputs": [
    {
     "ename": "ValueError",
     "evalue": "data_min_cols must be >= 100, got 20",
     "output_type": "error",
     "traceback": [
      "\u001b[1;31m---------------------------------------------------------------------------\u001b[0m",
      "\u001b[1;31mValueError\u001b[0m                                Traceback (most recent call last)",
      "File \u001b[1;32m<timed exec>:2\u001b[0m, in \u001b[0;36m<module>\u001b[1;34m\u001b[0m\n",
      "File \u001b[1;32mc:\\Users\\Razmik\\ВАЖНО\\biclust_reccomender\\biclustlib\\algorithms\\cca.py:70\u001b[0m, in \u001b[0;36mChengChurchAlgorithm.run\u001b[1;34m(self, data)\u001b[0m\n\u001b[0;32m     63\u001b[0m \u001b[39m\"\"\"Compute biclustering.\u001b[39;00m\n\u001b[0;32m     64\u001b[0m \n\u001b[0;32m     65\u001b[0m \u001b[39mParameters\u001b[39;00m\n\u001b[0;32m     66\u001b[0m \u001b[39m----------\u001b[39;00m\n\u001b[0;32m     67\u001b[0m \u001b[39mdata : numpy.ndarray\u001b[39;00m\n\u001b[0;32m     68\u001b[0m \u001b[39m\"\"\"\u001b[39;00m\n\u001b[0;32m     69\u001b[0m data \u001b[39m=\u001b[39m check_array(data, dtype\u001b[39m=\u001b[39mnp\u001b[39m.\u001b[39mdouble, copy\u001b[39m=\u001b[39m\u001b[39mTrue\u001b[39;00m)\n\u001b[1;32m---> 70\u001b[0m \u001b[39mself\u001b[39;49m\u001b[39m.\u001b[39;49m_validate_parameters()\n\u001b[0;32m     72\u001b[0m num_rows, num_cols \u001b[39m=\u001b[39m data\u001b[39m.\u001b[39mshape\n\u001b[0;32m     73\u001b[0m min_value \u001b[39m=\u001b[39m np\u001b[39m.\u001b[39mmin(data)\n",
      "File \u001b[1;32mc:\\Users\\Razmik\\ВАЖНО\\biclust_reccomender\\biclustlib\\algorithms\\cca.py:241\u001b[0m, in \u001b[0;36mChengChurchAlgorithm._validate_parameters\u001b[1;34m(self)\u001b[0m\n\u001b[0;32m    238\u001b[0m     \u001b[39mraise\u001b[39;00m \u001b[39mValueError\u001b[39;00m(\u001b[39m\"\u001b[39m\u001b[39mmultiple_node_deletion_threshold must be >= 1.0, got \u001b[39m\u001b[39m{}\u001b[39;00m\u001b[39m\"\u001b[39m\u001b[39m.\u001b[39mformat(\u001b[39mself\u001b[39m\u001b[39m.\u001b[39mmultiple_node_deletion_threshold))\n\u001b[0;32m    240\u001b[0m \u001b[39mif\u001b[39;00m \u001b[39mself\u001b[39m\u001b[39m.\u001b[39mdata_min_cols \u001b[39m<\u001b[39m \u001b[39m100\u001b[39m:\n\u001b[1;32m--> 241\u001b[0m     \u001b[39mraise\u001b[39;00m \u001b[39mValueError\u001b[39;00m(\u001b[39m\"\u001b[39m\u001b[39mdata_min_cols must be >= 100, got \u001b[39m\u001b[39m{}\u001b[39;00m\u001b[39m\"\u001b[39m\u001b[39m.\u001b[39mformat(\u001b[39mself\u001b[39m\u001b[39m.\u001b[39mdata_min_cols))\n",
      "\u001b[1;31mValueError\u001b[0m: data_min_cols must be >= 100, got 20"
     ]
    }
   ],
   "source": [
    "%%time\n",
    "# Cheng\n",
    "ml_precisions_cheng, ml_recalls_cheng = getPrecisionsAndRecalls(ml_df, ml_test, ml_y_train_cheng := ChengChurchAlgorithm(30, data_min_cols=20).run(ml_train))"
   ]
  },
  {
   "cell_type": "code",
   "execution_count": 133,
   "metadata": {
    "collapsed": false,
    "pycharm": {
     "name": "#%%\n"
    }
   },
   "outputs": [
    {
     "name": "stderr",
     "output_type": "stream",
     "text": [
      "18:43:46: \"Biclustering has been finished\"\n",
      "18:43:48: \"Finish calculating precision for n_items = 5\"\n",
      "18:43:51: \"Finish calculating precision for n_items = 10\"\n",
      "18:43:53: \"Finish calculating precision for n_items = 15\"\n",
      "18:43:56: \"Finish calculating precision for n_items = 20\"\n",
      "18:43:58: \"Finish calculating precision for n_items = 25\"\n",
      "18:44:01: \"Finish calculating precision for n_items = 30\"\n",
      "18:44:03: \"Finish calculating precision for n_items = 35\"\n",
      "18:44:05: \"Finish calculating precision for n_items = 40\"\n",
      "18:44:08: \"Finish calculating precision for n_items = 45\"\n",
      "18:44:10: \"Finish calculating precision for n_items = 50\"\n",
      "18:44:13: \"Finish calculating recall for n_items = 5\"\n",
      "18:44:15: \"Finish calculating recall for n_items = 10\"\n",
      "18:44:18: \"Finish calculating recall for n_items = 15\"\n",
      "18:44:20: \"Finish calculating recall for n_items = 20\"\n",
      "18:44:23: \"Finish calculating recall for n_items = 25\"\n",
      "18:44:25: \"Finish calculating recall for n_items = 30\"\n",
      "18:44:28: \"Finish calculating recall for n_items = 35\"\n",
      "18:44:30: \"Finish calculating recall for n_items = 40\"\n",
      "18:44:32: \"Finish calculating recall for n_items = 45\"\n",
      "18:44:35: \"Finish calculating recall for n_items = 50\"\n"
     ]
    },
    {
     "name": "stdout",
     "output_type": "stream",
     "text": [
      "CPU times: total: 4min 10s\n",
      "Wall time: 4min 10s\n"
     ]
    }
   ],
   "source": [
    "%%time\n",
    "# BitPatternBiclusteringAlgorithm 365 biclusters\n",
    "ml_precisions_bibit, ml_recalls_bibit = getPrecisionsAndRecalls(ml_df, ml_test, ml_y_train_bibit := BitPatternBiclusteringAlgorithm(10, 10).run(make_binary(ml_train, 3)), positive_threshold=3, make_binary=True)"
   ]
  },
  {
   "cell_type": "code",
   "execution_count": 134,
   "metadata": {
    "collapsed": false,
    "pycharm": {
     "name": "#%%\n"
    }
   },
   "outputs": [
    {
     "data": {
      "text/plain": [
       "365"
      ]
     },
     "execution_count": 134,
     "metadata": {},
     "output_type": "execute_result"
    }
   ],
   "source": [
    "len(ml_y_train_bibit.biclusters)"
   ]
  },
  {
   "cell_type": "code",
   "execution_count": 82,
   "metadata": {
    "collapsed": false,
    "pycharm": {
     "name": "#%%\n"
    }
   },
   "outputs": [
    {
     "name": "stderr",
     "output_type": "stream",
     "text": [
      "23:00:22: \"Biclustering has been finished\"\n",
      "23:00:23: \"Finish calculating precision for n_items = 5\"\n",
      "23:00:24: \"Finish calculating precision for n_items = 10\"\n",
      "23:00:24: \"Finish calculating precision for n_items = 15\"\n",
      "23:00:25: \"Finish calculating precision for n_items = 20\"\n",
      "23:00:26: \"Finish calculating precision for n_items = 25\"\n",
      "23:00:27: \"Finish calculating precision for n_items = 30\"\n",
      "23:00:27: \"Finish calculating precision for n_items = 35\"\n",
      "23:00:28: \"Finish calculating precision for n_items = 40\"\n",
      "23:00:29: \"Finish calculating precision for n_items = 45\"\n",
      "23:00:30: \"Finish calculating precision for n_items = 50\"\n",
      "23:00:31: \"Finish calculating recall for n_items = 5\"\n",
      "23:00:31: \"Finish calculating recall for n_items = 10\"\n",
      "23:00:32: \"Finish calculating recall for n_items = 15\"\n",
      "23:00:33: \"Finish calculating recall for n_items = 20\"\n",
      "23:00:34: \"Finish calculating recall for n_items = 25\"\n",
      "23:00:35: \"Finish calculating recall for n_items = 30\"\n",
      "23:00:35: \"Finish calculating recall for n_items = 35\"\n",
      "23:00:36: \"Finish calculating recall for n_items = 40\"\n",
      "23:00:38: \"Finish calculating recall for n_items = 45\"\n",
      "23:00:39: \"Finish calculating recall for n_items = 50\"\n"
     ]
    },
    {
     "name": "stdout",
     "output_type": "stream",
     "text": [
      "CPU times: total: 21.5 s\n",
      "Wall time: 17.1 s\n"
     ]
    }
   ],
   "source": [
    "%%time\n",
    "# TODO !!! Увеличение колва бикластеров == стабильность\n",
    "# SpectralCoclustering\n",
    "from sklearn.cluster import SpectralCoclustering\n",
    "\n",
    "model_users = SpectralCoclustering(n_clusters=30, random_state=0)\n",
    "ml_spectral_train = ml_train.copy()\n",
    "ml_spectral_train += 1\n",
    "clustering = model_users.fit(ml_spectral_train)\n",
    "\n",
    "biclusters = [Bicluster(index[0], index[1]) for index in\n",
    "              [clustering.get_indices(i) for i in range(clustering.n_clusters)]]\n",
    "ml_y_train_spectral = Biclustering(biclusters)\n",
    "\n",
    "# Delete empty biclusters\n",
    "ml_y_train_spectral.biclusters = [c for c in ml_y_train_spectral.biclusters if len(c.rows) != 0 and len(c.cols) != 0]\n",
    "\n",
    "ml_precisions_spectral, ml_recalls_spectral = getPrecisionsAndRecalls(ml_df, ml_test, ml_y_train_spectral)"
   ]
  },
  {
   "cell_type": "code",
   "execution_count": 136,
   "metadata": {
    "collapsed": false,
    "pycharm": {
     "name": "#%%\n"
    }
   },
   "outputs": [
    {
     "name": "stdout",
     "output_type": "stream",
     "text": [
      "CPU times: total: 1.27 s\n",
      "Wall time: 1.27 s\n"
     ]
    }
   ],
   "source": [
    "%%time\n",
    "# RANDOM\n",
    "ml_precisions_random, ml_recalls_random = [], []\n",
    "for c in items_count:\n",
    "    ml_precisions_random.append(np.array([precision(np.random.choice(range(ml_test.shape[1]), c), np.array(ml_test.iloc[i]), 3) for i in range(len(ml_test))]).mean())\n",
    "    ml_recalls_random.append(np.array([recall(np.random.choice(range(ml_test.shape[1]), c), np.array(ml_test.iloc[i]), 3) for i in range(len(ml_test))]).mean())"
   ]
  },
  {
   "cell_type": "code",
   "execution_count": 264,
   "metadata": {
    "collapsed": false,
    "pycharm": {
     "name": "#%%\n"
    }
   },
   "outputs": [
    {
     "name": "stderr",
     "output_type": "stream",
     "text": [
      "21:23:51: \"Biclustering has been finished\"\n",
      "21:23:58: \"Finish calculating precision for n_items = 5\"\n",
      "21:24:08: \"Finish calculating precision for n_items = 10\"\n",
      "21:24:19: \"Finish calculating precision for n_items = 15\"\n",
      "21:24:32: \"Finish calculating precision for n_items = 20\"\n",
      "21:24:45: \"Finish calculating precision for n_items = 25\"\n",
      "21:24:59: \"Finish calculating precision for n_items = 30\"\n",
      "21:25:13: \"Finish calculating precision for n_items = 35\"\n",
      "21:25:30: \"Finish calculating precision for n_items = 40\"\n",
      "21:25:46: \"Finish calculating precision for n_items = 45\"\n",
      "21:26:03: \"Finish calculating precision for n_items = 50\"\n",
      "21:26:11: \"Finish calculating recall for n_items = 5\"\n",
      "21:26:20: \"Finish calculating recall for n_items = 10\"\n",
      "21:26:30: \"Finish calculating recall for n_items = 15\"\n",
      "21:26:43: \"Finish calculating recall for n_items = 20\"\n",
      "21:26:56: \"Finish calculating recall for n_items = 25\"\n",
      "21:27:10: \"Finish calculating recall for n_items = 30\"\n",
      "21:27:24: \"Finish calculating recall for n_items = 35\"\n",
      "21:27:39: \"Finish calculating recall for n_items = 40\"\n",
      "21:27:54: \"Finish calculating recall for n_items = 45\"\n",
      "21:28:10: \"Finish calculating recall for n_items = 50\"\n"
     ]
    },
    {
     "name": "stdout",
     "output_type": "stream",
     "text": [
      "CPU times: total: 4min 33s\n",
      "Wall time: 4min 23s\n"
     ]
    }
   ],
   "source": [
    "%%time\n",
    "# Naive KNN Biclustering\n",
    "ml_precisions_naive_knn, ml_recalls_naive_knn = getPrecisionsAndRecalls(ml_df, ml_test, ml_y_train_naive_knn := NaiveKNNBiclustering(3.5, 30, 30).run(ml_train), positive_threshold=3, items_count=items_count)"
   ]
  },
  {
   "cell_type": "code",
   "execution_count": 265,
   "metadata": {
    "collapsed": false,
    "pycharm": {
     "name": "#%%\n"
    }
   },
   "outputs": [
    {
     "data": {
      "text/html": [
       "<div>\n",
       "<style scoped>\n",
       "    .dataframe tbody tr th:only-of-type {\n",
       "        vertical-align: middle;\n",
       "    }\n",
       "\n",
       "    .dataframe tbody tr th {\n",
       "        vertical-align: top;\n",
       "    }\n",
       "\n",
       "    .dataframe thead th {\n",
       "        text-align: right;\n",
       "    }\n",
       "</style>\n",
       "<table border=\"1\" class=\"dataframe\">\n",
       "  <thead>\n",
       "    <tr style=\"text-align: right;\">\n",
       "      <th></th>\n",
       "      <th>Naive KNN Biclustering</th>\n",
       "    </tr>\n",
       "  </thead>\n",
       "  <tbody>\n",
       "    <tr>\n",
       "      <th>Stability</th>\n",
       "      <td>0.72</td>\n",
       "    </tr>\n",
       "    <tr>\n",
       "      <th>Average precision</th>\n",
       "      <td>0.43</td>\n",
       "    </tr>\n",
       "    <tr>\n",
       "      <th>Average recall</th>\n",
       "      <td>0.28</td>\n",
       "    </tr>\n",
       "    <tr>\n",
       "      <th>Average F1 score</th>\n",
       "      <td>0.31</td>\n",
       "    </tr>\n",
       "  </tbody>\n",
       "</table>\n",
       "</div>"
      ],
      "text/plain": [
       "                   Naive KNN Biclustering\n",
       "Stability                            0.72\n",
       "Average precision                    0.43\n",
       "Average recall                       0.28\n",
       "Average F1 score                     0.31"
      ]
     },
     "execution_count": 265,
     "metadata": {},
     "output_type": "execute_result"
    }
   ],
   "source": [
    "biclustering_statictics([ml_precisions_naive_knn], [ml_recalls_naive_knn], [\"Naive KNN Biclustering\"])"
   ]
  },
  {
   "cell_type": "code",
   "execution_count": 266,
   "metadata": {
    "collapsed": false,
    "pycharm": {
     "name": "#%%\n"
    }
   },
   "outputs": [
    {
     "data": {
      "text/html": [
       "<div>\n",
       "<style scoped>\n",
       "    .dataframe tbody tr th:only-of-type {\n",
       "        vertical-align: middle;\n",
       "    }\n",
       "\n",
       "    .dataframe tbody tr th {\n",
       "        vertical-align: top;\n",
       "    }\n",
       "\n",
       "    .dataframe thead th {\n",
       "        text-align: right;\n",
       "    }\n",
       "</style>\n",
       "<table border=\"1\" class=\"dataframe\">\n",
       "  <thead>\n",
       "    <tr style=\"text-align: right;\">\n",
       "      <th></th>\n",
       "      <th>Naive KNN Biclustering</th>\n",
       "    </tr>\n",
       "  </thead>\n",
       "  <tbody>\n",
       "    <tr>\n",
       "      <th>User Coverage (%)</th>\n",
       "      <td>100.0</td>\n",
       "    </tr>\n",
       "    <tr>\n",
       "      <th>Item Coverage (%)</th>\n",
       "      <td>100.0</td>\n",
       "    </tr>\n",
       "    <tr>\n",
       "      <th>Mean Coverage (%)</th>\n",
       "      <td>100.0</td>\n",
       "    </tr>\n",
       "  </tbody>\n",
       "</table>\n",
       "</div>"
      ],
      "text/plain": [
       "                   Naive KNN Biclustering\n",
       "User Coverage (%)                   100.0\n",
       "Item Coverage (%)                   100.0\n",
       "Mean Coverage (%)                   100.0"
      ]
     },
     "execution_count": 266,
     "metadata": {},
     "output_type": "execute_result"
    }
   ],
   "source": [
    "coveragies(ml_train, [ml_y_train_naive_knn], [\"Naive KNN Biclustering\"])"
   ]
  },
  {
   "cell_type": "code",
   "execution_count": 267,
   "metadata": {
    "collapsed": false,
    "pycharm": {
     "name": "#%%\n"
    }
   },
   "outputs": [
    {
     "data": {
      "text/html": [
       "<div>\n",
       "<style scoped>\n",
       "    .dataframe tbody tr th:only-of-type {\n",
       "        vertical-align: middle;\n",
       "    }\n",
       "\n",
       "    .dataframe tbody tr th {\n",
       "        vertical-align: top;\n",
       "    }\n",
       "\n",
       "    .dataframe thead th {\n",
       "        text-align: right;\n",
       "    }\n",
       "</style>\n",
       "<table border=\"1\" class=\"dataframe\">\n",
       "  <thead>\n",
       "    <tr style=\"text-align: right;\">\n",
       "      <th></th>\n",
       "      <th>Biclusters Overlapping</th>\n",
       "    </tr>\n",
       "  </thead>\n",
       "  <tbody>\n",
       "    <tr>\n",
       "      <th>Naive KNN Biclustering</th>\n",
       "      <td>0.0</td>\n",
       "    </tr>\n",
       "  </tbody>\n",
       "</table>\n",
       "</div>"
      ],
      "text/plain": [
       "                        Biclusters Overlapping\n",
       "Naive KNN Biclustering                     0.0"
      ]
     },
     "execution_count": 267,
     "metadata": {},
     "output_type": "execute_result"
    }
   ],
   "source": [
    "pd.DataFrame([round(biclusters_quality(bicl) * 100, 1) for bicl in [ml_y_train_naive_knn]], index=[\"Naive KNN Biclustering\"], columns=[\"Biclusters Overlapping\"])"
   ]
  },
  {
   "cell_type": "code",
   "execution_count": 183,
   "metadata": {
    "collapsed": false,
    "pycharm": {
     "name": "#%%\n"
    }
   },
   "outputs": [],
   "source": [
    "# COCLUST 20 and 20 biclusters\n",
    "ml_precisions_coclust = [0.649, 0.639, 0.635, 0.633, 0.632, 0.631, 0.631, 0.63, 0.63, 0.629]\n",
    "ml_recalls_coclust = [0.252, 0.326, 0.356, 0.372, 0.382, 0.388, 0.392, 0.395, 0.397, 0.399]\n",
    "\n",
    "# UBKNN\n",
    "ml_precisions_ubknn = [0.703, 0.692, 0.687, 0.683, 0.681, 0.68, 0.68, 0.679, 0.679, 0.679]\n",
    "ml_recalls_ubknn = [0.251, 0.308, 0.332, 0.344, 0.35, 0.355, 0.357, 0.359, 0.36, 0.36]\n",
    "\n",
    "# SVD\n",
    "ml_precisions_svd = [0.66, 0.653, 0.65, 0.65, 0.649, 0.648, 0.648, 0.648, 0.648, 0.648]\n",
    "ml_recalls_svd = [0.233, 0.286, 0.304, 0.314, 0.32, 0.323, 0.326, 0.328, 0.329, 0.33]"
   ]
  },
  {
   "cell_type": "code",
   "execution_count": 286,
   "metadata": {
    "collapsed": false,
    "pycharm": {
     "name": "#%%\n"
    }
   },
   "outputs": [],
   "source": [
    "ml_all_precisions = [\n",
    "    ml_precisions_plaid,\n",
    "    ml_precisions_las,\n",
    "    ml_precisions_cheng,\n",
    "    ml_precisions_bibit,\n",
    "    ml_precisions_spectral,\n",
    "    # ml_precisions_coclust,\n",
    "    ml_precisions_ubknn,\n",
    "    ml_precisions_svd,\n",
    "    ml_precisions_random,\n",
    "    # ml_precisions_naive_knn\n",
    "]\n",
    "\n",
    "ml_all_recalls = [\n",
    "    ml_recalls_plaid,\n",
    "    ml_recalls_las,\n",
    "    ml_recalls_cheng,\n",
    "    ml_recalls_bibit,\n",
    "    ml_recalls_spectral,\n",
    "    # ml_recalls_coclust,\n",
    "    ml_recalls_ubknn,\n",
    "    ml_recalls_svd,\n",
    "    ml_recalls_random,\n",
    "    # ml_recalls_naive_knn\n",
    "]\n",
    "\n",
    "ml_all_algo_names = [\n",
    "    \"Plaid\",\n",
    "    \"LAS\",\n",
    "    \"Cheng & Church\",\n",
    "    \"BiBit\",\n",
    "    \"Spectral Coclustering\",\n",
    "    # \"COCLUST\",\n",
    "    \"UBKNN\",\n",
    "    \"SVD\",\n",
    "    \"Random\",\n",
    "    # \"Naive KNN Biclustering\"\n",
    "]"
   ]
  },
  {
   "cell_type": "markdown",
   "metadata": {
    "collapsed": false,
    "pycharm": {
     "name": "#%% md\n"
    }
   },
   "source": [
    "### Movielens precision"
   ]
  },
  {
   "cell_type": "code",
   "execution_count": 287,
   "metadata": {
    "collapsed": false,
    "pycharm": {
     "name": "#%%\n"
    }
   },
   "outputs": [
    {
     "data": {
      "image/png": "[encoded data removed]",
      "text/plain": [
       "<Figure size 1080x792 with 1 Axes>"
      ]
     },
     "metadata": {},
     "output_type": "display_data"
    }
   ],
   "source": [
    "# PRECISION\n",
    "plot_metric_N_recom(\"Precision\", \"Movielens\", ml_all_precisions, ml_all_algo_names)"
   ]
  },
  {
   "cell_type": "markdown",
   "metadata": {
    "collapsed": false,
    "pycharm": {
     "name": "#%% md\n"
    }
   },
   "source": [
    "### Movielens recall"
   ]
  },
  {
   "cell_type": "code",
   "execution_count": 288,
   "metadata": {
    "collapsed": false,
    "pycharm": {
     "name": "#%%\n"
    }
   },
   "outputs": [
    {
     "data": {
      "image/png": "[encoded data removed]",
      "text/plain": [
       "<Figure size 1080x792 with 1 Axes>"
      ]
     },
     "metadata": {},
     "output_type": "display_data"
    }
   ],
   "source": [
    "# RECALL\n",
    "plot_metric_N_recom(\"Recall\", \"Movielens\", ml_all_recalls, ml_all_algo_names)"
   ]
  },
  {
   "cell_type": "markdown",
   "metadata": {
    "collapsed": false,
    "pycharm": {
     "name": "#%% md\n"
    }
   },
   "source": [
    "### Movielens f1 score"
   ]
  },
  {
   "cell_type": "code",
   "execution_count": 289,
   "metadata": {
    "collapsed": false,
    "pycharm": {
     "name": "#%%\n"
    }
   },
   "outputs": [
    {
     "data": {
      "image/png": "[encoded data removed]",
      "text/plain": [
       "<Figure size 1080x792 with 1 Axes>"
      ]
     },
     "metadata": {},
     "output_type": "display_data"
    }
   ],
   "source": [
    "# F1 SCORE\n",
    "plot_metric_N_recom(\"F1 Score\", \"Movielens\", f1_score(ml_all_precisions, ml_all_recalls), ml_all_algo_names)"
   ]
  },
  {
   "cell_type": "markdown",
   "metadata": {
    "collapsed": false,
    "pycharm": {
     "name": "#%% md\n"
    }
   },
   "source": [
    "### Movielens metrics summary"
   ]
  },
  {
   "cell_type": "code",
   "execution_count": 233,
   "metadata": {
    "collapsed": false,
    "pycharm": {
     "name": "#%%\n"
    }
   },
   "outputs": [
    {
     "data": {
      "text/html": [
       "<div>\n",
       "<style scoped>\n",
       "    .dataframe tbody tr th:only-of-type {\n",
       "        vertical-align: middle;\n",
       "    }\n",
       "\n",
       "    .dataframe tbody tr th {\n",
       "        vertical-align: top;\n",
       "    }\n",
       "\n",
       "    .dataframe thead th {\n",
       "        text-align: right;\n",
       "    }\n",
       "</style>\n",
       "<table border=\"1\" class=\"dataframe\">\n",
       "  <thead>\n",
       "    <tr style=\"text-align: right;\">\n",
       "      <th></th>\n",
       "      <th>Plaid</th>\n",
       "      <th>LAS</th>\n",
       "      <th>Cheng &amp; Church</th>\n",
       "      <th>BiBit</th>\n",
       "      <th>Spectral Coclustering</th>\n",
       "      <th>UBKNN</th>\n",
       "      <th>SVD</th>\n",
       "      <th>Random</th>\n",
       "    </tr>\n",
       "  </thead>\n",
       "  <tbody>\n",
       "    <tr>\n",
       "      <th>Stability</th>\n",
       "      <td>0.83</td>\n",
       "      <td>0.94</td>\n",
       "      <td>0.95</td>\n",
       "      <td>0.84</td>\n",
       "      <td>0.86</td>\n",
       "      <td>0.98</td>\n",
       "      <td>0.99</td>\n",
       "      <td>0.99</td>\n",
       "    </tr>\n",
       "    <tr>\n",
       "      <th>Average precision</th>\n",
       "      <td>0.31</td>\n",
       "      <td>0.27</td>\n",
       "      <td>0.10</td>\n",
       "      <td>0.36</td>\n",
       "      <td>0.21</td>\n",
       "      <td>0.68</td>\n",
       "      <td>0.65</td>\n",
       "      <td>0.03</td>\n",
       "    </tr>\n",
       "    <tr>\n",
       "      <th>Average recall</th>\n",
       "      <td>0.21</td>\n",
       "      <td>0.16</td>\n",
       "      <td>0.06</td>\n",
       "      <td>0.20</td>\n",
       "      <td>0.11</td>\n",
       "      <td>0.34</td>\n",
       "      <td>0.31</td>\n",
       "      <td>0.02</td>\n",
       "    </tr>\n",
       "    <tr>\n",
       "      <th>Average F1 score</th>\n",
       "      <td>0.23</td>\n",
       "      <td>0.19</td>\n",
       "      <td>0.07</td>\n",
       "      <td>0.24</td>\n",
       "      <td>0.13</td>\n",
       "      <td>0.45</td>\n",
       "      <td>0.42</td>\n",
       "      <td>0.02</td>\n",
       "    </tr>\n",
       "  </tbody>\n",
       "</table>\n",
       "</div>"
      ],
      "text/plain": [
       "                   Plaid   LAS  Cheng & Church  BiBit  Spectral Coclustering  \\\n",
       "Stability           0.83  0.94            0.95   0.84                   0.86   \n",
       "Average precision   0.31  0.27            0.10   0.36                   0.21   \n",
       "Average recall      0.21  0.16            0.06   0.20                   0.11   \n",
       "Average F1 score    0.23  0.19            0.07   0.24                   0.13   \n",
       "\n",
       "                   UBKNN   SVD  Random  \n",
       "Stability           0.98  0.99    0.99  \n",
       "Average precision   0.68  0.65    0.03  \n",
       "Average recall      0.34  0.31    0.02  \n",
       "Average F1 score    0.45  0.42    0.02  "
      ]
     },
     "execution_count": 233,
     "metadata": {},
     "output_type": "execute_result"
    }
   ],
   "source": [
    "# Statistics\n",
    "precisions_lst = [ml_precisions_plaid, ml_precisions_cheng, ml_precisions_las, ml_precisions_bibit, ml_precisions_spectral, ml_precisions_ubknn, ml_precisions_svd, ml_precisions_random]\n",
    "recalls_lst = [ml_recalls_plaid, ml_recalls_cheng, ml_recalls_las, ml_recalls_bibit, ml_recalls_spectral, ml_recalls_ubknn, ml_recalls_svd, ml_recalls_random]\n",
    "names = [\"Plaid\", \"Cheng & Church\", \"LAS\", \"BiBit\", \"Spectral Coclustering\", \"UBKNN\", \"SVD\", \"Random\"]\n",
    "\n",
    "biclustering_statictics(ml_all_precisions, ml_all_recalls, ml_all_algo_names)"
   ]
  },
  {
   "cell_type": "markdown",
   "metadata": {
    "collapsed": false,
    "pycharm": {
     "name": "#%% md\n"
    }
   },
   "source": [
    "--------"
   ]
  },
  {
   "cell_type": "markdown",
   "metadata": {
    "collapsed": false,
    "pycharm": {
     "name": "#%% md\n"
    }
   },
   "source": [
    "## Jester"
   ]
  },
  {
   "cell_type": "code",
   "execution_count": 145,
   "metadata": {
    "collapsed": false,
    "pycharm": {
     "name": "#%%\n"
    }
   },
   "outputs": [],
   "source": [
    "# Train and test\n",
    "jester_train = jester_df.iloc[:3000]\n",
    "jester_test = jester_df.iloc[3000:4000]\n",
    "items_count = np.arange(5, 55, 5)"
   ]
  },
  {
   "cell_type": "code",
   "execution_count": 294,
   "metadata": {
    "collapsed": false,
    "pycharm": {
     "name": "#%%\n"
    }
   },
   "outputs": [
    {
     "name": "stderr",
     "output_type": "stream",
     "text": [
      "01:15:46: \"Biclustering has been finished\"\n"
     ]
    },
    {
     "ename": "KeyboardInterrupt",
     "evalue": "",
     "output_type": "error",
     "traceback": [
      "\u001b[1;31m---------------------------------------------------------------------------\u001b[0m",
      "\u001b[1;31mKeyboardInterrupt\u001b[0m                         Traceback (most recent call last)",
      "File \u001b[1;32m<timed exec>:2\u001b[0m, in \u001b[0;36m<module>\u001b[1;34m\u001b[0m\n",
      "Input \u001b[1;32mIn [109]\u001b[0m, in \u001b[0;36mgetPrecisionsAndRecalls\u001b[1;34m(df, test, y_train, positive_threshold, make_binary, items_count)\u001b[0m\n\u001b[0;32m     21\u001b[0m     test_[test_ \u001b[38;5;241m<\u001b[39m\u001b[38;5;241m=\u001b[39m positive_threshold] \u001b[38;5;241m=\u001b[39m \u001b[38;5;241m0\u001b[39m\n\u001b[0;32m     22\u001b[0m     test_[test_ \u001b[38;5;241m>\u001b[39m positive_threshold] \u001b[38;5;241m=\u001b[39m \u001b[38;5;241m1\u001b[39m\n\u001b[1;32m---> 24\u001b[0m \u001b[38;5;28;01mreturn\u001b[39;00m [calc_metric(df_, test_, y_train, c, precision, make_binary, positive_threshold) \u001b[38;5;28;01mfor\u001b[39;00m c \u001b[38;5;129;01min\u001b[39;00m items_count], [\n\u001b[0;32m     25\u001b[0m     calc_metric(df_, test_, y_train, c, recall, make_binary, positive_threshold) \u001b[38;5;28;01mfor\u001b[39;00m c \u001b[38;5;129;01min\u001b[39;00m items_count]\n",
      "Input \u001b[1;32mIn [109]\u001b[0m, in \u001b[0;36m<listcomp>\u001b[1;34m(.0)\u001b[0m\n\u001b[0;32m     21\u001b[0m     test_[test_ \u001b[38;5;241m<\u001b[39m\u001b[38;5;241m=\u001b[39m positive_threshold] \u001b[38;5;241m=\u001b[39m \u001b[38;5;241m0\u001b[39m\n\u001b[0;32m     22\u001b[0m     test_[test_ \u001b[38;5;241m>\u001b[39m positive_threshold] \u001b[38;5;241m=\u001b[39m \u001b[38;5;241m1\u001b[39m\n\u001b[1;32m---> 24\u001b[0m \u001b[38;5;28;01mreturn\u001b[39;00m [\u001b[43mcalc_metric\u001b[49m\u001b[43m(\u001b[49m\u001b[43mdf_\u001b[49m\u001b[43m,\u001b[49m\u001b[43m \u001b[49m\u001b[43mtest_\u001b[49m\u001b[43m,\u001b[49m\u001b[43m \u001b[49m\u001b[43my_train\u001b[49m\u001b[43m,\u001b[49m\u001b[43m \u001b[49m\u001b[43mc\u001b[49m\u001b[43m,\u001b[49m\u001b[43m \u001b[49m\u001b[43mprecision\u001b[49m\u001b[43m,\u001b[49m\u001b[43m \u001b[49m\u001b[43mmake_binary\u001b[49m\u001b[43m,\u001b[49m\u001b[43m \u001b[49m\u001b[43mpositive_threshold\u001b[49m\u001b[43m)\u001b[49m \u001b[38;5;28;01mfor\u001b[39;00m c \u001b[38;5;129;01min\u001b[39;00m items_count], [\n\u001b[0;32m     25\u001b[0m     calc_metric(df_, test_, y_train, c, recall, make_binary, positive_threshold) \u001b[38;5;28;01mfor\u001b[39;00m c \u001b[38;5;129;01min\u001b[39;00m items_count]\n",
      "Input \u001b[1;32mIn [108]\u001b[0m, in \u001b[0;36mcalc_metric\u001b[1;34m(data, sample, biclustering, n_items, metric, is_binary, positive_threshold)\u001b[0m\n\u001b[0;32m     15\u001b[0m recommendation_function \u001b[38;5;241m=\u001b[39m [recommendation, binary_recommendation][is_binary]\n\u001b[0;32m     16\u001b[0m positive_threshold \u001b[38;5;241m*\u001b[39m\u001b[38;5;241m=\u001b[39m \u001b[38;5;129;01mnot\u001b[39;00m is_binary\n\u001b[1;32m---> 18\u001b[0m metric_values \u001b[38;5;241m=\u001b[39m [\n\u001b[0;32m     19\u001b[0m     metric(\n\u001b[0;32m     20\u001b[0m         rec \u001b[38;5;241m:=\u001b[39m recommendation_function(\n\u001b[0;32m     21\u001b[0m             data,\n\u001b[0;32m     22\u001b[0m             sample\u001b[38;5;241m.\u001b[39miloc[i],\n\u001b[0;32m     23\u001b[0m             biclustering,\n\u001b[0;32m     24\u001b[0m             n_items\n\u001b[0;32m     25\u001b[0m         ),\n\u001b[0;32m     26\u001b[0m         np\u001b[38;5;241m.\u001b[39masarray(sample\u001b[38;5;241m.\u001b[39miloc[i]),\n\u001b[0;32m     27\u001b[0m         positive_threshold\n\u001b[0;32m     28\u001b[0m     ) \u001b[38;5;28;01mfor\u001b[39;00m i \u001b[38;5;129;01min\u001b[39;00m \u001b[38;5;28mrange\u001b[39m(\u001b[38;5;28mlen\u001b[39m(sample))]\n\u001b[0;32m     29\u001b[0m logging\u001b[38;5;241m.\u001b[39mgetLogger()\u001b[38;5;241m.\u001b[39mdebug(\u001b[38;5;124mf\u001b[39m\u001b[38;5;124m\"\u001b[39m\u001b[38;5;124mFinish calculating \u001b[39m\u001b[38;5;132;01m{\u001b[39;00mmetric\u001b[38;5;241m.\u001b[39m\u001b[38;5;18m__name__\u001b[39m\u001b[38;5;132;01m}\u001b[39;00m\u001b[38;5;124m for n_items = \u001b[39m\u001b[38;5;132;01m{\u001b[39;00mn_items\u001b[38;5;132;01m}\u001b[39;00m\u001b[38;5;124m\"\u001b[39m)\n\u001b[0;32m     30\u001b[0m \u001b[38;5;28;01mreturn\u001b[39;00m \u001b[38;5;28mfloat\u001b[39m(np\u001b[38;5;241m.\u001b[39mmean(metric_values))\n",
      "Input \u001b[1;32mIn [108]\u001b[0m, in \u001b[0;36m<listcomp>\u001b[1;34m(.0)\u001b[0m\n\u001b[0;32m     15\u001b[0m recommendation_function \u001b[38;5;241m=\u001b[39m [recommendation, binary_recommendation][is_binary]\n\u001b[0;32m     16\u001b[0m positive_threshold \u001b[38;5;241m*\u001b[39m\u001b[38;5;241m=\u001b[39m \u001b[38;5;129;01mnot\u001b[39;00m is_binary\n\u001b[0;32m     18\u001b[0m metric_values \u001b[38;5;241m=\u001b[39m [\n\u001b[0;32m     19\u001b[0m     metric(\n\u001b[1;32m---> 20\u001b[0m         rec \u001b[38;5;241m:=\u001b[39m \u001b[43mrecommendation_function\u001b[49m\u001b[43m(\u001b[49m\n\u001b[0;32m     21\u001b[0m \u001b[43m            \u001b[49m\u001b[43mdata\u001b[49m\u001b[43m,\u001b[49m\n\u001b[0;32m     22\u001b[0m \u001b[43m            \u001b[49m\u001b[43msample\u001b[49m\u001b[38;5;241;43m.\u001b[39;49m\u001b[43miloc\u001b[49m\u001b[43m[\u001b[49m\u001b[43mi\u001b[49m\u001b[43m]\u001b[49m\u001b[43m,\u001b[49m\n\u001b[0;32m     23\u001b[0m \u001b[43m            \u001b[49m\u001b[43mbiclustering\u001b[49m\u001b[43m,\u001b[49m\n\u001b[0;32m     24\u001b[0m \u001b[43m            \u001b[49m\u001b[43mn_items\u001b[49m\n\u001b[0;32m     25\u001b[0m \u001b[43m        \u001b[49m\u001b[43m)\u001b[49m,\n\u001b[0;32m     26\u001b[0m         np\u001b[38;5;241m.\u001b[39masarray(sample\u001b[38;5;241m.\u001b[39miloc[i]),\n\u001b[0;32m     27\u001b[0m         positive_threshold\n\u001b[0;32m     28\u001b[0m     ) \u001b[38;5;28;01mfor\u001b[39;00m i \u001b[38;5;129;01min\u001b[39;00m \u001b[38;5;28mrange\u001b[39m(\u001b[38;5;28mlen\u001b[39m(sample))]\n\u001b[0;32m     29\u001b[0m logging\u001b[38;5;241m.\u001b[39mgetLogger()\u001b[38;5;241m.\u001b[39mdebug(\u001b[38;5;124mf\u001b[39m\u001b[38;5;124m\"\u001b[39m\u001b[38;5;124mFinish calculating \u001b[39m\u001b[38;5;132;01m{\u001b[39;00mmetric\u001b[38;5;241m.\u001b[39m\u001b[38;5;18m__name__\u001b[39m\u001b[38;5;132;01m}\u001b[39;00m\u001b[38;5;124m for n_items = \u001b[39m\u001b[38;5;132;01m{\u001b[39;00mn_items\u001b[38;5;132;01m}\u001b[39;00m\u001b[38;5;124m\"\u001b[39m)\n\u001b[0;32m     30\u001b[0m \u001b[38;5;28;01mreturn\u001b[39;00m \u001b[38;5;28mfloat\u001b[39m(np\u001b[38;5;241m.\u001b[39mmean(metric_values))\n",
      "Input \u001b[1;32mIn [102]\u001b[0m, in \u001b[0;36mrecommendation\u001b[1;34m(df, user_items, biclusters, k_items)\u001b[0m\n\u001b[0;32m      3\u001b[0m     user_items \u001b[38;5;241m=\u001b[39m np\u001b[38;5;241m.\u001b[39marray(user_items)\n\u001b[0;32m      5\u001b[0m items_to_recommend \u001b[38;5;241m=\u001b[39m \u001b[38;5;28mset\u001b[39m()\n\u001b[1;32m----> 6\u001b[0m neighboring_biclusters \u001b[38;5;241m=\u001b[39m \u001b[43mNBCF\u001b[49m\u001b[43m(\u001b[49m\u001b[43muser_items\u001b[49m\u001b[43m,\u001b[49m\u001b[43m \u001b[49m\u001b[43mbiclusters\u001b[49m\u001b[43m)\u001b[49m\n\u001b[0;32m      7\u001b[0m \u001b[38;5;28;01mfor\u001b[39;00m i, biclust_to_analyze \u001b[38;5;129;01min\u001b[39;00m neighboring_biclusters:\n\u001b[0;32m      8\u001b[0m     item_ratings \u001b[38;5;241m=\u001b[39m []\n",
      "Input \u001b[1;32mIn [101]\u001b[0m, in \u001b[0;36mNBCF\u001b[1;34m(user_items, biclusters)\u001b[0m\n\u001b[0;32m      1\u001b[0m \u001b[38;5;28;01mdef\u001b[39;00m \u001b[38;5;21mNBCF\u001b[39m(user_items: np\u001b[38;5;241m.\u001b[39mndarray, biclusters: Biclustering):\n\u001b[1;32m----> 2\u001b[0m     results \u001b[38;5;241m=\u001b[39m [[wf(user_items, cluster), cluster] \u001b[38;5;28;01mfor\u001b[39;00m cluster \u001b[38;5;129;01min\u001b[39;00m biclusters\u001b[38;5;241m.\u001b[39mbiclusters]\n\u001b[0;32m      3\u001b[0m     results\u001b[38;5;241m.\u001b[39msort(key\u001b[38;5;241m=\u001b[39m\u001b[38;5;28;01mlambda\u001b[39;00m x: \u001b[38;5;241m-\u001b[39mx[\u001b[38;5;241m0\u001b[39m])\n\u001b[0;32m      4\u001b[0m     \u001b[38;5;28;01mreturn\u001b[39;00m results\n",
      "Input \u001b[1;32mIn [101]\u001b[0m, in \u001b[0;36m<listcomp>\u001b[1;34m(.0)\u001b[0m\n\u001b[0;32m      1\u001b[0m \u001b[38;5;28;01mdef\u001b[39;00m \u001b[38;5;21mNBCF\u001b[39m(user_items: np\u001b[38;5;241m.\u001b[39mndarray, biclusters: Biclustering):\n\u001b[1;32m----> 2\u001b[0m     results \u001b[38;5;241m=\u001b[39m [[\u001b[43mwf\u001b[49m\u001b[43m(\u001b[49m\u001b[43muser_items\u001b[49m\u001b[43m,\u001b[49m\u001b[43m \u001b[49m\u001b[43mcluster\u001b[49m\u001b[43m)\u001b[49m, cluster] \u001b[38;5;28;01mfor\u001b[39;00m cluster \u001b[38;5;129;01min\u001b[39;00m biclusters\u001b[38;5;241m.\u001b[39mbiclusters]\n\u001b[0;32m      3\u001b[0m     results\u001b[38;5;241m.\u001b[39msort(key\u001b[38;5;241m=\u001b[39m\u001b[38;5;28;01mlambda\u001b[39;00m x: \u001b[38;5;241m-\u001b[39mx[\u001b[38;5;241m0\u001b[39m])\n\u001b[0;32m      4\u001b[0m     \u001b[38;5;28;01mreturn\u001b[39;00m results\n",
      "Input \u001b[1;32mIn [100]\u001b[0m, in \u001b[0;36mwf\u001b[1;34m(user_items, bicluster)\u001b[0m\n\u001b[0;32m      1\u001b[0m \u001b[38;5;28;01mdef\u001b[39;00m \u001b[38;5;21mwf\u001b[39m(user_items: np\u001b[38;5;241m.\u001b[39mndarray, bicluster: Bicluster):\n\u001b[1;32m----> 2\u001b[0m     \u001b[38;5;28;01mreturn\u001b[39;00m \u001b[43msim\u001b[49m\u001b[43m(\u001b[49m\u001b[43muser_items\u001b[49m\u001b[43m,\u001b[49m\u001b[43m \u001b[49m\u001b[43mbicluster\u001b[49m\u001b[43m)\u001b[49m \u001b[38;5;241m*\u001b[39m \u001b[38;5;28mlen\u001b[39m(bicluster\u001b[38;5;241m.\u001b[39mrows)\n",
      "Input \u001b[1;32mIn [99]\u001b[0m, in \u001b[0;36msim\u001b[1;34m(user_items, bicluster)\u001b[0m\n\u001b[0;32m      1\u001b[0m \u001b[38;5;28;01mdef\u001b[39;00m \u001b[38;5;21msim\u001b[39m(user_items: np\u001b[38;5;241m.\u001b[39mndarray, bicluster: Bicluster):\n\u001b[1;32m----> 2\u001b[0m     \u001b[38;5;28;01mreturn\u001b[39;00m \u001b[38;5;28mlen\u001b[39m(\u001b[43mnp\u001b[49m\u001b[38;5;241;43m.\u001b[39;49m\u001b[43mintersect1d\u001b[49m\u001b[43m(\u001b[49m\u001b[43muser_items\u001b[49m\u001b[38;5;241;43m.\u001b[39;49m\u001b[43mnonzero\u001b[49m\u001b[43m(\u001b[49m\u001b[43m)\u001b[49m\u001b[43m,\u001b[49m\u001b[43m \u001b[49m\u001b[43mbicluster\u001b[49m\u001b[38;5;241;43m.\u001b[39;49m\u001b[43mcols\u001b[49m\u001b[43m)\u001b[49m) \u001b[38;5;241m/\u001b[39m \u001b[38;5;28mlen\u001b[39m(bicluster\u001b[38;5;241m.\u001b[39mcols)\n",
      "File \u001b[1;32m<__array_function__ internals>:5\u001b[0m, in \u001b[0;36mintersect1d\u001b[1;34m(*args, **kwargs)\u001b[0m\n",
      "File \u001b[1;32mD:\\Program Files\\Anaconda\\envs\\pythonProject5\\lib\\site-packages\\numpy\\lib\\arraysetops.py:451\u001b[0m, in \u001b[0;36mintersect1d\u001b[1;34m(ar1, ar2, assume_unique, return_indices)\u001b[0m\n\u001b[0;32m    449\u001b[0m     aux \u001b[38;5;241m=\u001b[39m aux[aux_sort_indices]\n\u001b[0;32m    450\u001b[0m \u001b[38;5;28;01melse\u001b[39;00m:\n\u001b[1;32m--> 451\u001b[0m     \u001b[43maux\u001b[49m\u001b[38;5;241;43m.\u001b[39;49m\u001b[43msort\u001b[49m\u001b[43m(\u001b[49m\u001b[43m)\u001b[49m\n\u001b[0;32m    453\u001b[0m mask \u001b[38;5;241m=\u001b[39m aux[\u001b[38;5;241m1\u001b[39m:] \u001b[38;5;241m==\u001b[39m aux[:\u001b[38;5;241m-\u001b[39m\u001b[38;5;241m1\u001b[39m]\n\u001b[0;32m    454\u001b[0m int1d \u001b[38;5;241m=\u001b[39m aux[:\u001b[38;5;241m-\u001b[39m\u001b[38;5;241m1\u001b[39m][mask]\n",
      "\u001b[1;31mKeyboardInterrupt\u001b[0m: "
     ]
    }
   ],
   "source": [
    "%%time\n",
    "# Plaid\n",
    "jester_precisions_plaid, jester_recalls_plaid = getPrecisionsAndRecalls(jester_df, jester_test, jester_y_train_plaid := Plaid(30, True, 0.03, 0.03).run(jester_train), positive_threshold=10, items_count=items_count)"
   ]
  },
  {
   "cell_type": "code",
   "execution_count": 295,
   "metadata": {
    "collapsed": false,
    "pycharm": {
     "name": "#%%\n"
    }
   },
   "outputs": [
    {
     "name": "stderr",
     "output_type": "stream",
     "text": [
      "01:15:55: \"Biclustering has been finished\"\n",
      "\n",
      "KeyboardInterrupt\n",
      "\n"
     ]
    }
   ],
   "source": [
    "%%time\n",
    "# Cheng\n",
    "jester_precisions_cheng, jester_recalls_cheng = getPrecisionsAndRecalls(jester_df, jester_test, jester_y_train_cheng := ChengChurchAlgorithm(50, data_min_cols=20).run(jester_train), positive_threshold=10, items_count=items_count)"
   ]
  },
  {
   "cell_type": "code",
   "execution_count": 148,
   "metadata": {
    "collapsed": false,
    "pycharm": {
     "name": "#%%\n"
    }
   },
   "outputs": [
    {
     "name": "stderr",
     "output_type": "stream",
     "text": [
      "18:54:41: \"Biclustering has been finished\"\n",
      "18:54:47: \"Finish calculating precision for n_items = 5\"\n",
      "18:54:54: \"Finish calculating precision for n_items = 10\"\n",
      "18:55:01: \"Finish calculating precision for n_items = 15\"\n",
      "18:55:08: \"Finish calculating precision for n_items = 20\"\n",
      "18:55:15: \"Finish calculating precision for n_items = 25\"\n",
      "18:55:24: \"Finish calculating precision for n_items = 30\"\n",
      "18:55:33: \"Finish calculating precision for n_items = 35\"\n",
      "18:55:42: \"Finish calculating precision for n_items = 40\"\n",
      "18:55:52: \"Finish calculating precision for n_items = 45\"\n",
      "18:56:01: \"Finish calculating precision for n_items = 50\"\n",
      "18:56:08: \"Finish calculating recall for n_items = 5\"\n",
      "18:56:14: \"Finish calculating recall for n_items = 10\"\n",
      "18:56:21: \"Finish calculating recall for n_items = 15\"\n",
      "18:56:28: \"Finish calculating recall for n_items = 20\"\n",
      "18:56:35: \"Finish calculating recall for n_items = 25\"\n",
      "18:56:44: \"Finish calculating recall for n_items = 30\"\n",
      "18:56:53: \"Finish calculating recall for n_items = 35\"\n",
      "18:57:03: \"Finish calculating recall for n_items = 40\"\n",
      "18:57:12: \"Finish calculating recall for n_items = 45\"\n",
      "18:57:21: \"Finish calculating recall for n_items = 50\"\n"
     ]
    },
    {
     "name": "stdout",
     "output_type": "stream",
     "text": [
      "CPU times: total: 2min 43s\n",
      "Wall time: 2min 43s\n"
     ]
    }
   ],
   "source": [
    "%%time\n",
    "# LargeAverageSubmatrices\n",
    "jester_precisions_las, jester_recalls_las = getPrecisionsAndRecalls(jester_df, jester_test, jester_y_train_las := LargeAverageSubmatrices(30, 0.8, 100).run(jester_train), positive_threshold=10, items_count=items_count)"
   ]
  },
  {
   "cell_type": "code",
   "execution_count": 271,
   "metadata": {
    "collapsed": false,
    "pycharm": {
     "name": "#%%\n"
    }
   },
   "outputs": [
    {
     "name": "stderr",
     "output_type": "stream",
     "text": [
      "22:19:45: \"Biclustering has been finished\"\n",
      "22:19:46: \"Finish calculating precision for n_items = 5\"\n",
      "22:19:46: \"Finish calculating precision for n_items = 10\"\n",
      "22:19:47: \"Finish calculating precision for n_items = 15\"\n",
      "22:19:47: \"Finish calculating precision for n_items = 20\"\n",
      "22:19:48: \"Finish calculating precision for n_items = 25\"\n",
      "22:19:48: \"Finish calculating precision for n_items = 30\"\n",
      "22:19:49: \"Finish calculating precision for n_items = 35\"\n",
      "22:19:49: \"Finish calculating precision for n_items = 40\"\n",
      "22:19:49: \"Finish calculating precision for n_items = 45\"\n",
      "22:19:50: \"Finish calculating precision for n_items = 50\"\n",
      "22:19:50: \"Finish calculating recall for n_items = 5\"\n",
      "22:19:51: \"Finish calculating recall for n_items = 10\"\n",
      "22:19:51: \"Finish calculating recall for n_items = 15\"\n",
      "22:19:52: \"Finish calculating recall for n_items = 20\"\n",
      "22:19:52: \"Finish calculating recall for n_items = 25\"\n",
      "22:19:53: \"Finish calculating recall for n_items = 30\"\n",
      "22:19:53: \"Finish calculating recall for n_items = 35\"\n",
      "22:19:53: \"Finish calculating recall for n_items = 40\"\n",
      "22:19:54: \"Finish calculating recall for n_items = 45\"\n",
      "22:19:54: \"Finish calculating recall for n_items = 50\"\n"
     ]
    },
    {
     "name": "stdout",
     "output_type": "stream",
     "text": [
      "CPU times: total: 1min 32s\n",
      "Wall time: 1min 32s\n"
     ]
    }
   ],
   "source": [
    "%%time\n",
    "# BitPatternBiclusteringAlgorithm: 136 biclusters for arguments (30, 20)\n",
    "jester_precisions_bibit, jester_recalls_bibit = getPrecisionsAndRecalls(jester_df, jester_test[:150], jester_y_train_bibit := BitPatternBiclusteringAlgorithm(30, 20).run(make_binary(jester_train[:400], 10)), positive_threshold=10, make_binary=True, items_count=items_count)"
   ]
  },
  {
   "cell_type": "code",
   "execution_count": 272,
   "metadata": {
    "collapsed": false,
    "pycharm": {
     "name": "#%%\n"
    }
   },
   "outputs": [
    {
     "data": {
      "text/plain": [
       "136"
      ]
     },
     "execution_count": 272,
     "metadata": {},
     "output_type": "execute_result"
    }
   ],
   "source": [
    "len(jester_y_train_bibit.biclusters)"
   ]
  },
  {
   "cell_type": "code",
   "execution_count": 151,
   "metadata": {
    "collapsed": false,
    "pycharm": {
     "name": "#%%\n"
    }
   },
   "outputs": [
    {
     "name": "stderr",
     "output_type": "stream",
     "text": [
      "18:58:55: \"Biclustering has been finished\"\n",
      "18:58:59: \"Finish calculating precision for n_items = 5\"\n",
      "18:59:05: \"Finish calculating precision for n_items = 10\"\n",
      "18:59:12: \"Finish calculating precision for n_items = 15\"\n",
      "18:59:20: \"Finish calculating precision for n_items = 20\"\n",
      "18:59:29: \"Finish calculating precision for n_items = 25\"\n",
      "18:59:40: \"Finish calculating precision for n_items = 30\"\n",
      "18:59:53: \"Finish calculating precision for n_items = 35\"\n",
      "19:00:08: \"Finish calculating precision for n_items = 40\"\n",
      "19:00:24: \"Finish calculating precision for n_items = 45\"\n",
      "19:00:41: \"Finish calculating precision for n_items = 50\"\n",
      "19:00:45: \"Finish calculating recall for n_items = 5\"\n",
      "19:00:51: \"Finish calculating recall for n_items = 10\"\n",
      "19:00:58: \"Finish calculating recall for n_items = 15\"\n",
      "19:01:06: \"Finish calculating recall for n_items = 20\"\n",
      "19:01:15: \"Finish calculating recall for n_items = 25\"\n",
      "19:01:26: \"Finish calculating recall for n_items = 30\"\n",
      "19:01:39: \"Finish calculating recall for n_items = 35\"\n",
      "19:01:54: \"Finish calculating recall for n_items = 40\"\n",
      "19:02:10: \"Finish calculating recall for n_items = 45\"\n",
      "19:02:26: \"Finish calculating recall for n_items = 50\"\n"
     ]
    },
    {
     "name": "stdout",
     "output_type": "stream",
     "text": [
      "CPU times: total: 3min 37s\n",
      "Wall time: 3min 32s\n"
     ]
    }
   ],
   "source": [
    "%%time\n",
    "# SpectralCoclustering\n",
    "model_users = SpectralCoclustering(n_clusters=30, random_state=0)\n",
    "jester_spectral = jester_train.copy()\n",
    "jester_spectral += 1\n",
    "clustering = model_users.fit(jester_spectral)\n",
    "biclusters = [Bicluster(index[0], index[1]) for index in [clustering.get_indices(i) for i in range(clustering.n_clusters)]]\n",
    "jester_y_train_spectral = Biclustering(biclusters)\n",
    "\n",
    "# Delete empty biclusters\n",
    "jester_y_train_spectral.biclusters = [c for c in jester_y_train_spectral.biclusters if len(c.rows) != 0 and len(c.cols) != 0]\n",
    "\n",
    "jester_precisions_spectral, jester_recalls_spectral = getPrecisionsAndRecalls(jester_df, jester_test, jester_y_train_spectral, positive_threshold=10, items_count=items_count)"
   ]
  },
  {
   "cell_type": "code",
   "execution_count": 241,
   "metadata": {
    "collapsed": false,
    "pycharm": {
     "name": "#%%\n"
    }
   },
   "outputs": [
    {
     "name": "stderr",
     "output_type": "stream",
     "text": [
      "20:38:52: \"Biclustering has been finished\"\n",
      "20:39:07: \"Finish calculating precision for n_items = 5\"\n",
      "20:39:24: \"Finish calculating precision for n_items = 10\"\n",
      "20:39:43: \"Finish calculating precision for n_items = 15\"\n",
      "20:40:04: \"Finish calculating precision for n_items = 20\"\n",
      "20:40:25: \"Finish calculating precision for n_items = 25\"\n",
      "20:40:50: \"Finish calculating precision for n_items = 30\"\n",
      "20:41:21: \"Finish calculating precision for n_items = 35\"\n",
      "20:42:10: \"Finish calculating precision for n_items = 40\"\n",
      "20:43:23: \"Finish calculating precision for n_items = 45\"\n",
      "20:45:00: \"Finish calculating precision for n_items = 50\"\n",
      "20:45:15: \"Finish calculating recall for n_items = 5\"\n",
      "20:45:32: \"Finish calculating recall for n_items = 10\"\n",
      "20:45:51: \"Finish calculating recall for n_items = 15\"\n",
      "20:46:11: \"Finish calculating recall for n_items = 20\"\n",
      "20:46:33: \"Finish calculating recall for n_items = 25\"\n",
      "20:46:58: \"Finish calculating recall for n_items = 30\"\n",
      "20:47:30: \"Finish calculating recall for n_items = 35\"\n",
      "20:48:20: \"Finish calculating recall for n_items = 40\"\n",
      "20:49:33: \"Finish calculating recall for n_items = 45\"\n",
      "20:51:11: \"Finish calculating recall for n_items = 50\"\n"
     ]
    },
    {
     "name": "stdout",
     "output_type": "stream",
     "text": [
      "CPU times: total: 12min 26s\n",
      "Wall time: 12min 21s\n"
     ]
    }
   ],
   "source": [
    "%%time\n",
    "# Naive KNN Biclustering\n",
    "jester_precisions_naive_knn, jester_recalls_naive_knn = getPrecisionsAndRecalls(jester_df, jester_test, jester_y_train_naive_knn := NaiveKNNBiclustering(10, 30, 30).run(jester_train), positive_threshold=10, items_count=items_count)"
   ]
  },
  {
   "cell_type": "code",
   "execution_count": 219,
   "metadata": {
    "collapsed": false,
    "pycharm": {
     "name": "#%%\n"
    }
   },
   "outputs": [],
   "source": [
    "# Data from surprise\n",
    "# Coclust\n",
    "jester_precisions_coclust = [0.521, 0.53, 0.531, 0.524, 0.539, 0.56, 0.573, 0.579, 0.578, 0.588]\n",
    "jester_recalls_coclust = [0.065, 0.131, 0.199, 0.267, 0.344, 0.431, 0.516, 0.592, 0.65, 0.715]\n",
    "\n",
    "# SVD\n",
    "jester_precisions_svd = [0.798, 0.783, 0.771, 0.753, 0.737, 0.721, 0.709, 0.698, 0.688, 0.68]\n",
    "jester_recalls_svd = [0.106, 0.208, 0.305, 0.392, 0.476, 0.551, 0.614, 0.667, 0.712, 0.75]\n",
    "\n",
    "# UBKNN\n",
    "jester_precisions_ubknn = [0.53, 0.536, 0.539, 0.533, 0.548, 0.569, 0.582, 0.588, 0.588, 0.598]\n",
    "jester_recalls_ubknn = [0.065, 0.132, 0.2, 0.269, 0.346, 0.433, 0.518, 0.593, 0.652, 0.717]"
   ]
  },
  {
   "cell_type": "code",
   "execution_count": 153,
   "metadata": {
    "collapsed": false,
    "pycharm": {
     "name": "#%%\n"
    }
   },
   "outputs": [
    {
     "name": "stdout",
     "output_type": "stream",
     "text": [
      "CPU times: total: 2.95 s\n",
      "Wall time: 2.98 s\n"
     ]
    }
   ],
   "source": [
    "%%time\n",
    "# RANDOM\n",
    "jester_precisions_random, jester_recalls_random = [], []\n",
    "for c in items_count:\n",
    "    jester_precisions_random.append(np.array([precision(np.random.choice(range(jester_test.shape[1]), c), np.array(jester_test.iloc[i]), 3) for i in range(len(jester_test))]).mean())\n",
    "    jester_recalls_random.append(np.array([recall(np.random.choice(range(jester_test.shape[1]), c), np.array(jester_test.iloc[i]), 3) for i in range(len(jester_test))]).mean())"
   ]
  },
  {
   "cell_type": "code",
   "execution_count": 282,
   "metadata": {
    "collapsed": false,
    "pycharm": {
     "name": "#%%\n"
    }
   },
   "outputs": [],
   "source": [
    "# TODO coclust\n",
    "jester_all_precisions = [\n",
    "    jester_precisions_plaid,\n",
    "    jester_precisions_las,\n",
    "    jester_precisions_cheng,\n",
    "    jester_precisions_bibit,\n",
    "    jester_precisions_spectral,\n",
    "    # jester_precisions_coclust,\n",
    "    jester_precisions_ubknn,\n",
    "    jester_precisions_svd,\n",
    "    jester_precisions_random,\n",
    "    # jester_precisions_naive_knn\n",
    "]\n",
    "\n",
    "jester_all_recalls = [\n",
    "    jester_recalls_plaid,\n",
    "    jester_recalls_las,\n",
    "    jester_recalls_cheng,\n",
    "    jester_recalls_bibit,\n",
    "    jester_recalls_spectral,\n",
    "    # jester_recalls_coclust,\n",
    "    jester_recalls_ubknn,\n",
    "    jester_recalls_svd,\n",
    "    jester_recalls_random,\n",
    "    # jester_recalls_naive_knn\n",
    "]\n",
    "\n",
    "jester_all_algo_names = [\n",
    "    \"Plaid\",\n",
    "    \"LAS\",\n",
    "    \"Cheng & Church\",\n",
    "    \"BiBit\",\n",
    "    \"Spectral Coclustering\",\n",
    "    # \"COCLUST\",\n",
    "    \"UBKNN\",\n",
    "    \"SVD\",\n",
    "    \"Random\",\n",
    "    # \"Naive KNN Biclustering\"\n",
    "]"
   ]
  },
  {
   "cell_type": "markdown",
   "metadata": {
    "collapsed": false,
    "pycharm": {
     "name": "#%% md\n"
    }
   },
   "source": [
    "### Jester precision"
   ]
  },
  {
   "cell_type": "code",
   "execution_count": 292,
   "metadata": {
    "collapsed": false,
    "pycharm": {
     "name": "#%%\n"
    }
   },
   "outputs": [
    {
     "data": {
      "image/png": "[encoded data removed]",
      "text/plain": [
       "<Figure size 1080x792 with 1 Axes>"
      ]
     },
     "metadata": {},
     "output_type": "display_data"
    }
   ],
   "source": [
    "plot_metric_N_recom(\"Precision\", \"Jester\", jester_all_precisions, jester_all_algo_names, legend_loc=\"lower right\")"
   ]
  },
  {
   "cell_type": "markdown",
   "metadata": {
    "collapsed": false,
    "pycharm": {
     "name": "#%% md\n"
    }
   },
   "source": [
    "### Jester recall"
   ]
  },
  {
   "cell_type": "code",
   "execution_count": 284,
   "metadata": {
    "collapsed": false,
    "pycharm": {
     "name": "#%%\n"
    }
   },
   "outputs": [
    {
     "data": {
      "image/png": "[encoded data removed]",
      "text/plain": [
       "<Figure size 1080x792 with 1 Axes>"
      ]
     },
     "metadata": {},
     "output_type": "display_data"
    }
   ],
   "source": [
    "plot_metric_N_recom(\"Recall\", \"Jester\", jester_all_recalls, jester_all_algo_names, legend_loc=\"upper left\")"
   ]
  },
  {
   "cell_type": "markdown",
   "metadata": {
    "collapsed": false,
    "pycharm": {
     "name": "#%% md\n"
    }
   },
   "source": [
    "### Jester f1 score"
   ]
  },
  {
   "cell_type": "code",
   "execution_count": 285,
   "metadata": {
    "collapsed": false,
    "pycharm": {
     "name": "#%%\n"
    }
   },
   "outputs": [
    {
     "data": {
      "image/png": "[encoded data removed]",
      "text/plain": [
       "<Figure size 1080x792 with 1 Axes>"
      ]
     },
     "metadata": {},
     "output_type": "display_data"
    }
   ],
   "source": [
    "plot_metric_N_recom(\"F1 Score\", \"Jester\", f1_score(jester_all_precisions, jester_all_recalls), jester_all_algo_names, legend_loc=\"upper left\")"
   ]
  },
  {
   "cell_type": "markdown",
   "metadata": {
    "collapsed": false,
    "pycharm": {
     "name": "#%% md\n"
    }
   },
   "source": [
    "### Jester metrics summary"
   ]
  },
  {
   "cell_type": "code",
   "execution_count": 238,
   "metadata": {
    "collapsed": false,
    "pycharm": {
     "name": "#%%\n"
    }
   },
   "outputs": [
    {
     "data": {
      "text/html": [
       "<div>\n",
       "<style scoped>\n",
       "    .dataframe tbody tr th:only-of-type {\n",
       "        vertical-align: middle;\n",
       "    }\n",
       "\n",
       "    .dataframe tbody tr th {\n",
       "        vertical-align: top;\n",
       "    }\n",
       "\n",
       "    .dataframe thead th {\n",
       "        text-align: right;\n",
       "    }\n",
       "</style>\n",
       "<table border=\"1\" class=\"dataframe\">\n",
       "  <thead>\n",
       "    <tr style=\"text-align: right;\">\n",
       "      <th></th>\n",
       "      <th>Plaid</th>\n",
       "      <th>LAS</th>\n",
       "      <th>Cheng &amp; Church</th>\n",
       "      <th>BiBit</th>\n",
       "      <th>Spectral Coclustering</th>\n",
       "      <th>UBKNN</th>\n",
       "      <th>SVD</th>\n",
       "      <th>Random</th>\n",
       "    </tr>\n",
       "  </thead>\n",
       "  <tbody>\n",
       "    <tr>\n",
       "      <th>Stability</th>\n",
       "      <td>0.91</td>\n",
       "      <td>0.82</td>\n",
       "      <td>0.98</td>\n",
       "      <td>0.84</td>\n",
       "      <td>0.96</td>\n",
       "      <td>0.93</td>\n",
       "      <td>0.88</td>\n",
       "      <td>0.87</td>\n",
       "    </tr>\n",
       "    <tr>\n",
       "      <th>Average precision</th>\n",
       "      <td>0.57</td>\n",
       "      <td>0.70</td>\n",
       "      <td>0.61</td>\n",
       "      <td>0.75</td>\n",
       "      <td>0.62</td>\n",
       "      <td>0.56</td>\n",
       "      <td>0.73</td>\n",
       "      <td>0.58</td>\n",
       "    </tr>\n",
       "    <tr>\n",
       "      <th>Average recall</th>\n",
       "      <td>0.36</td>\n",
       "      <td>0.43</td>\n",
       "      <td>0.38</td>\n",
       "      <td>0.46</td>\n",
       "      <td>0.40</td>\n",
       "      <td>0.39</td>\n",
       "      <td>0.48</td>\n",
       "      <td>0.23</td>\n",
       "    </tr>\n",
       "    <tr>\n",
       "      <th>Average F1 score</th>\n",
       "      <td>0.41</td>\n",
       "      <td>0.50</td>\n",
       "      <td>0.44</td>\n",
       "      <td>0.53</td>\n",
       "      <td>0.45</td>\n",
       "      <td>0.43</td>\n",
       "      <td>0.54</td>\n",
       "      <td>0.31</td>\n",
       "    </tr>\n",
       "  </tbody>\n",
       "</table>\n",
       "</div>"
      ],
      "text/plain": [
       "                   Plaid   LAS  Cheng & Church  BiBit  Spectral Coclustering  \\\n",
       "Stability           0.91  0.82            0.98   0.84                   0.96   \n",
       "Average precision   0.57  0.70            0.61   0.75                   0.62   \n",
       "Average recall      0.36  0.43            0.38   0.46                   0.40   \n",
       "Average F1 score    0.41  0.50            0.44   0.53                   0.45   \n",
       "\n",
       "                   UBKNN   SVD  Random  \n",
       "Stability           0.93  0.88    0.87  \n",
       "Average precision   0.56  0.73    0.58  \n",
       "Average recall      0.39  0.48    0.23  \n",
       "Average F1 score    0.43  0.54    0.31  "
      ]
     },
     "execution_count": 238,
     "metadata": {},
     "output_type": "execute_result"
    }
   ],
   "source": [
    "# Statistics\n",
    "biclustering_statictics(jester_all_precisions, jester_all_recalls, jester_all_algo_names)"
   ]
  },
  {
   "cell_type": "code",
   "execution_count": 159,
   "metadata": {
    "collapsed": false,
    "pycharm": {
     "name": "#%%\n"
    }
   },
   "outputs": [
    {
     "data": {
      "text/html": [
       "<div>\n",
       "<style scoped>\n",
       "    .dataframe tbody tr th:only-of-type {\n",
       "        vertical-align: middle;\n",
       "    }\n",
       "\n",
       "    .dataframe tbody tr th {\n",
       "        vertical-align: top;\n",
       "    }\n",
       "\n",
       "    .dataframe thead th {\n",
       "        text-align: right;\n",
       "    }\n",
       "</style>\n",
       "<table border=\"1\" class=\"dataframe\">\n",
       "  <thead>\n",
       "    <tr style=\"text-align: right;\">\n",
       "      <th></th>\n",
       "      <th>Plaid</th>\n",
       "      <th>Cheng &amp; Church</th>\n",
       "      <th>LAS</th>\n",
       "      <th>BiBit</th>\n",
       "      <th>Spectral Coclust</th>\n",
       "    </tr>\n",
       "  </thead>\n",
       "  <tbody>\n",
       "    <tr>\n",
       "      <th>User Coverage (%)</th>\n",
       "      <td>100.0</td>\n",
       "      <td>99.90</td>\n",
       "      <td>50.70</td>\n",
       "      <td>45.50</td>\n",
       "      <td>82.50</td>\n",
       "    </tr>\n",
       "    <tr>\n",
       "      <th>Item Coverage (%)</th>\n",
       "      <td>100.0</td>\n",
       "      <td>85.00</td>\n",
       "      <td>100.00</td>\n",
       "      <td>55.00</td>\n",
       "      <td>100.00</td>\n",
       "    </tr>\n",
       "    <tr>\n",
       "      <th>Mean Coverage (%)</th>\n",
       "      <td>100.0</td>\n",
       "      <td>92.45</td>\n",
       "      <td>75.35</td>\n",
       "      <td>50.25</td>\n",
       "      <td>91.25</td>\n",
       "    </tr>\n",
       "  </tbody>\n",
       "</table>\n",
       "</div>"
      ],
      "text/plain": [
       "                   Plaid  Cheng & Church     LAS  BiBit  Spectral Coclust\n",
       "User Coverage (%)  100.0           99.90   50.70  45.50             82.50\n",
       "Item Coverage (%)  100.0           85.00  100.00  55.00            100.00\n",
       "Mean Coverage (%)  100.0           92.45   75.35  50.25             91.25"
      ]
     },
     "execution_count": 159,
     "metadata": {},
     "output_type": "execute_result"
    }
   ],
   "source": [
    "# User/item coveragies\n",
    "cs = coveragies(jester_train, [jester_y_train_plaid, jester_y_train_cheng, jester_y_train_las, jester_y_train_bibit, jester_y_train_spectral], [\"Plaid\", \"Cheng & Church\", \"LAS\", \"BiBit\", \"Spectral Coclust\"])\n",
    "cs[\"BiBit\"] = coveragies(jester_train[:400], [jester_y_train_bibit], [\"Bibit\"])\n",
    "cs"
   ]
  },
  {
   "cell_type": "code",
   "execution_count": 160,
   "metadata": {
    "collapsed": false,
    "pycharm": {
     "name": "#%%\n"
    }
   },
   "outputs": [
    {
     "data": {
      "text/html": [
       "<div>\n",
       "<style scoped>\n",
       "    .dataframe tbody tr th:only-of-type {\n",
       "        vertical-align: middle;\n",
       "    }\n",
       "\n",
       "    .dataframe tbody tr th {\n",
       "        vertical-align: top;\n",
       "    }\n",
       "\n",
       "    .dataframe thead th {\n",
       "        text-align: right;\n",
       "    }\n",
       "</style>\n",
       "<table border=\"1\" class=\"dataframe\">\n",
       "  <thead>\n",
       "    <tr style=\"text-align: right;\">\n",
       "      <th></th>\n",
       "      <th>Biclusters Overlapping</th>\n",
       "    </tr>\n",
       "  </thead>\n",
       "  <tbody>\n",
       "    <tr>\n",
       "      <th>Plaid</th>\n",
       "      <td>3.5</td>\n",
       "    </tr>\n",
       "    <tr>\n",
       "      <th>Cheng &amp; Church</th>\n",
       "      <td>0.3</td>\n",
       "    </tr>\n",
       "    <tr>\n",
       "      <th>LAS</th>\n",
       "      <td>13.0</td>\n",
       "    </tr>\n",
       "    <tr>\n",
       "      <th>BiBit</th>\n",
       "      <td>40.9</td>\n",
       "    </tr>\n",
       "    <tr>\n",
       "      <th>Spectral</th>\n",
       "      <td>0.0</td>\n",
       "    </tr>\n",
       "  </tbody>\n",
       "</table>\n",
       "</div>"
      ],
      "text/plain": [
       "                Biclusters Overlapping\n",
       "Plaid                              3.5\n",
       "Cheng & Church                     0.3\n",
       "LAS                               13.0\n",
       "BiBit                             40.9\n",
       "Spectral                           0.0"
      ]
     },
     "execution_count": 160,
     "metadata": {},
     "output_type": "execute_result"
    }
   ],
   "source": [
    "# Biclusters overlapping\n",
    "pd.DataFrame([round(biclusters_quality(bicl) * 100, 1) for bicl in [jester_y_train_plaid, jester_y_train_cheng, jester_y_train_las, jester_y_train_bibit, jester_y_train_spectral]], index= [\"Plaid\", \"Cheng & Church\", \"LAS\", \"BiBit\", \"Spectral\"], columns=[\"Biclusters Overlapping\"])"
   ]
  }
 ],
 "metadata": {
  "kernelspec": {
   "display_name": "Python 3.8.8 ('base')",
   "language": "python",
   "name": "python3"
  },
  "language_info": {
   "codemirror_mode": {
    "name": "ipython",
    "version": 3
   },
   "file_extension": ".py",
   "mimetype": "text/x-python",
   "name": "python",
   "nbconvert_exporter": "python",
   "pygments_lexer": "ipython3",
   "version": "3.8.8"
  },
  "orig_nbformat": 4,
  "vscode": {
   "interpreter": {
    "hash": "4ce33fab002e94cbc7641d6f1d8bce864fcdc86d5c50e18439d1893e5565a728"
   }
  }
 },
 "nbformat": 4,
 "nbformat_minor": 2
}
